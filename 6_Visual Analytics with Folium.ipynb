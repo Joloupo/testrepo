{
  "metadata": {
    "kernelspec": {
      "name": "python",
      "display_name": "Python (Pyodide)",
      "language": "python"
    },
    "language_info": {
      "codemirror_mode": {
        "name": "python",
        "version": 3
      },
      "file_extension": ".py",
      "mimetype": "text/x-python",
      "name": "python",
      "nbconvert_exporter": "python",
      "pygments_lexer": "ipython3",
      "version": "3.8"
    },
    "prev_pub_hash": "0f9db842b41c859223722809f8be602f5df9334348bd206b11e3af58c30eb345"
  },
  "nbformat_minor": 4,
  "nbformat": 4,
  "cells": [
    {
      "cell_type": "markdown",
      "source": "<p style=\"text-align:center\">\n    <a href=\"https://skills.network/?utm_medium=Exinfluencer&utm_source=Exinfluencer&utm_content=000026UJ&utm_term=10006555&utm_id=NA-SkillsNetwork-Channel-SkillsNetworkCoursesIBMDS0321ENSkillsNetwork26802033-2022-01-01\" target=\"_blank\">\n    <img src=\"https://cf-courses-data.s3.us.cloud-object-storage.appdomain.cloud/assets/logos/SN_web_lightmode.png\" width=\"200\" alt=\"Skills Network Logo\">\n    </a>\n</p>\n",
      "metadata": {}
    },
    {
      "cell_type": "markdown",
      "source": "# **Hands-on Lab: Interactive Visual Analytics with Folium**\n",
      "metadata": {}
    },
    {
      "cell_type": "markdown",
      "source": "Estimated time needed: **40** minutes\n",
      "metadata": {}
    },
    {
      "cell_type": "markdown",
      "source": "The launch success rate may depend on many factors such as payload mass, orbit type, and so on. It may also depend on the location and proximities of a launch site, i.e., the initial position of rocket trajectories. Finding an optimal location for building a launch site certainly involves many factors and hopefully we could discover some of the factors by analyzing the existing launch site locations.\n",
      "metadata": {}
    },
    {
      "cell_type": "markdown",
      "source": "In the previous exploratory data analysis labs, you have visualized the SpaceX launch dataset using `matplotlib` and `seaborn` and discovered some preliminary correlations between the launch site and success rates. In this lab, you will be performing more interactive visual analytics using `Folium`.\n",
      "metadata": {}
    },
    {
      "cell_type": "markdown",
      "source": "## Objectives\n",
      "metadata": {}
    },
    {
      "cell_type": "markdown",
      "source": "This lab contains the following tasks:\n\n*   **TASK 1:** Mark all launch sites on a map\n*   **TASK 2:** Mark the success/failed launches for each site on the map\n*   **TASK 3:** Calculate the distances between a launch site to its proximities\n\nAfter completed the above tasks, you should be able to find some geographical patterns about launch sites.\n",
      "metadata": {}
    },
    {
      "cell_type": "markdown",
      "source": "Let's first import required Python packages for this lab:\n",
      "metadata": {}
    },
    {
      "cell_type": "code",
      "source": "import piplite\nawait piplite.install(['folium'])\nawait piplite.install(['pandas'])",
      "metadata": {
        "trusted": true
      },
      "outputs": [],
      "execution_count": 1
    },
    {
      "cell_type": "code",
      "source": "import folium\nimport pandas as pd",
      "metadata": {
        "trusted": true
      },
      "outputs": [],
      "execution_count": 2
    },
    {
      "cell_type": "code",
      "source": "# Import folium MarkerCluster plugin\nfrom folium.plugins import MarkerCluster\n# Import folium MousePosition plugin\nfrom folium.plugins import MousePosition\n# Import folium DivIcon plugin\nfrom folium.features import DivIcon",
      "metadata": {
        "trusted": true
      },
      "outputs": [],
      "execution_count": 3
    },
    {
      "cell_type": "markdown",
      "source": "If you need to refresh your memory about folium, you may download and refer to this previous folium lab:\n",
      "metadata": {}
    },
    {
      "cell_type": "markdown",
      "source": "[Generating Maps with Python](https://cf-courses-data.s3.us.cloud-object-storage.appdomain.cloud/IBMDeveloperSkillsNetwork-DV0101EN-SkillsNetwork/labs/v4/DV0101EN-Exercise-Generating-Maps-in-Python.ipynb)\n",
      "metadata": {}
    },
    {
      "cell_type": "code",
      "source": "## Task 1: Mark all launch sites on a map\nfrom folium.plugins import MarkerCluster\nfrom folium.plugins import MousePosition\nfrom folium.features import DivIcon\n\n# Create a folium map centered at an average location (e.g., the center of the world)\nm = folium.Map(location=[20,0], zoom_start=2)\n\n# Initialize a MarkerCluster object\nmarker_cluster = MarkerCluster().add_to(m)\n\n# Example: Assuming you have a DataFrame `df` with columns 'Latitude', 'Longitude', and 'LaunchSite'\n# This is just an example, make sure you adjust it to your own dataframe column names and data\n\n# Sample data for launch sites (adjust with your actual data)\nlaunch_sites = [\n    {\"site\": \"Cape Canaveral\", \"latitude\": 28.3922, \"longitude\": -80.6077},\n    {\"site\": \"Kennedy Space Center\", \"latitude\": 28.5721, \"longitude\": -80.6480},\n    {\"site\": \"Vandenberg Air Force Base\", \"latitude\": 34.7420, \"longitude\": -120.6108},\n    {\"site\": \"Space Launch Complex 40\", \"latitude\": 28.3922, \"longitude\": -80.6077},\n    # Add more launch sites here as necessary\n]\n\n# Iterate through launch_sites and add markers to the map\nfor site in launch_sites:\n    folium.Marker(\n        location=[site['latitude'], site['longitude']],\n        popup=site['site'],  # Pop-up text for each marker\n        icon=folium.Icon(color='blue', icon='cloud')\n    ).add_to(marker_cluster)\n\n# Add MousePosition plugin to show coordinates as the mouse moves\nMousePosition().add_to(m)\n\n# Display the map\nm",
      "metadata": {
        "trusted": true
      },
      "outputs": [
        {
          "execution_count": 4,
          "output_type": "execute_result",
          "data": {
            "text/plain": "<folium.folium.Map at 0x5e54d50>",
            "text/html": "<div style=\"width:100%;\"><div style=\"position:relative;width:100%;height:0;padding-bottom:60%;\"><span style=\"color:#565656\">Make this Notebook Trusted to load map: File -> Trust Notebook</span><iframe srcdoc=\"&lt;!DOCTYPE html&gt;\n&lt;html&gt;\n&lt;head&gt;\n    \n    &lt;meta http-equiv=&quot;content-type&quot; content=&quot;text/html; charset=UTF-8&quot; /&gt;\n    \n        &lt;script&gt;\n            L_NO_TOUCH = false;\n            L_DISABLE_3D = false;\n        &lt;/script&gt;\n    \n    &lt;style&gt;html, body {width: 100%;height: 100%;margin: 0;padding: 0;}&lt;/style&gt;\n    &lt;style&gt;#map {position:absolute;top:0;bottom:0;right:0;left:0;}&lt;/style&gt;\n    &lt;script src=&quot;https://cdn.jsdelivr.net/npm/leaflet@1.9.3/dist/leaflet.js&quot;&gt;&lt;/script&gt;\n    &lt;script src=&quot;https://code.jquery.com/jquery-3.7.1.min.js&quot;&gt;&lt;/script&gt;\n    &lt;script src=&quot;https://cdn.jsdelivr.net/npm/bootstrap@5.2.2/dist/js/bootstrap.bundle.min.js&quot;&gt;&lt;/script&gt;\n    &lt;script src=&quot;https://cdnjs.cloudflare.com/ajax/libs/Leaflet.awesome-markers/2.0.2/leaflet.awesome-markers.js&quot;&gt;&lt;/script&gt;\n    &lt;link rel=&quot;stylesheet&quot; href=&quot;https://cdn.jsdelivr.net/npm/leaflet@1.9.3/dist/leaflet.css&quot;/&gt;\n    &lt;link rel=&quot;stylesheet&quot; href=&quot;https://cdn.jsdelivr.net/npm/bootstrap@5.2.2/dist/css/bootstrap.min.css&quot;/&gt;\n    &lt;link rel=&quot;stylesheet&quot; href=&quot;https://netdna.bootstrapcdn.com/bootstrap/3.0.0/css/bootstrap-glyphicons.css&quot;/&gt;\n    &lt;link rel=&quot;stylesheet&quot; href=&quot;https://cdn.jsdelivr.net/npm/@fortawesome/fontawesome-free@6.2.0/css/all.min.css&quot;/&gt;\n    &lt;link rel=&quot;stylesheet&quot; href=&quot;https://cdnjs.cloudflare.com/ajax/libs/Leaflet.awesome-markers/2.0.2/leaflet.awesome-markers.css&quot;/&gt;\n    &lt;link rel=&quot;stylesheet&quot; href=&quot;https://cdn.jsdelivr.net/gh/python-visualization/folium/folium/templates/leaflet.awesome.rotate.min.css&quot;/&gt;\n    \n            &lt;meta name=&quot;viewport&quot; content=&quot;width=device-width,\n                initial-scale=1.0, maximum-scale=1.0, user-scalable=no&quot; /&gt;\n            &lt;style&gt;\n                #map_67773ceec69fd1b5e905d630b7476bd4 {\n                    position: relative;\n                    width: 100.0%;\n                    height: 100.0%;\n                    left: 0.0%;\n                    top: 0.0%;\n                }\n                .leaflet-container { font-size: 1rem; }\n            &lt;/style&gt;\n        \n    &lt;script src=&quot;https://cdnjs.cloudflare.com/ajax/libs/leaflet.markercluster/1.1.0/leaflet.markercluster.js&quot;&gt;&lt;/script&gt;\n    &lt;link rel=&quot;stylesheet&quot; href=&quot;https://cdnjs.cloudflare.com/ajax/libs/leaflet.markercluster/1.1.0/MarkerCluster.css&quot;/&gt;\n    &lt;link rel=&quot;stylesheet&quot; href=&quot;https://cdnjs.cloudflare.com/ajax/libs/leaflet.markercluster/1.1.0/MarkerCluster.Default.css&quot;/&gt;\n    &lt;script src=&quot;https://cdn.jsdelivr.net/gh/ardhi/Leaflet.MousePosition/src/L.Control.MousePosition.min.js&quot;&gt;&lt;/script&gt;\n    &lt;link rel=&quot;stylesheet&quot; href=&quot;https://cdn.jsdelivr.net/gh/ardhi/Leaflet.MousePosition/src/L.Control.MousePosition.min.css&quot;/&gt;\n&lt;/head&gt;\n&lt;body&gt;\n    \n    \n            &lt;div class=&quot;folium-map&quot; id=&quot;map_67773ceec69fd1b5e905d630b7476bd4&quot; &gt;&lt;/div&gt;\n        \n&lt;/body&gt;\n&lt;script&gt;\n    \n    \n            var map_67773ceec69fd1b5e905d630b7476bd4 = L.map(\n                &quot;map_67773ceec69fd1b5e905d630b7476bd4&quot;,\n                {\n                    center: [20.0, 0.0],\n                    crs: L.CRS.EPSG3857,\n                    ...{\n  &quot;zoom&quot;: 2,\n  &quot;zoomControl&quot;: true,\n  &quot;preferCanvas&quot;: false,\n}\n\n                }\n            );\n\n            \n\n        \n    \n            var tile_layer_d4c5f52d36b491f9281ffaf48cef2767 = L.tileLayer(\n                &quot;https://tile.openstreetmap.org/{z}/{x}/{y}.png&quot;,\n                {\n  &quot;minZoom&quot;: 0,\n  &quot;maxZoom&quot;: 19,\n  &quot;maxNativeZoom&quot;: 19,\n  &quot;noWrap&quot;: false,\n  &quot;attribution&quot;: &quot;\\u0026copy; \\u003ca href=\\&quot;https://www.openstreetmap.org/copyright\\&quot;\\u003eOpenStreetMap\\u003c/a\\u003e contributors&quot;,\n  &quot;subdomains&quot;: &quot;abc&quot;,\n  &quot;detectRetina&quot;: false,\n  &quot;tms&quot;: false,\n  &quot;opacity&quot;: 1,\n}\n\n            );\n        \n    \n            tile_layer_d4c5f52d36b491f9281ffaf48cef2767.addTo(map_67773ceec69fd1b5e905d630b7476bd4);\n        \n    \n            var marker_cluster_5d64fd55c6e66e0054942f71538e9d85 = L.markerClusterGroup(\n                {\n}\n            );\n        \n    \n            var marker_17d8b2e969caf4ed84c48d47bcce4aba = L.marker(\n                [28.3922, -80.6077],\n                {\n}\n            ).addTo(marker_cluster_5d64fd55c6e66e0054942f71538e9d85);\n        \n    \n            var icon_6e614aecaa299813479fb87204976ef0 = L.AwesomeMarkers.icon(\n                {\n  &quot;markerColor&quot;: &quot;blue&quot;,\n  &quot;iconColor&quot;: &quot;white&quot;,\n  &quot;icon&quot;: &quot;cloud&quot;,\n  &quot;prefix&quot;: &quot;glyphicon&quot;,\n  &quot;extraClasses&quot;: &quot;fa-rotate-0&quot;,\n}\n            );\n            marker_17d8b2e969caf4ed84c48d47bcce4aba.setIcon(icon_6e614aecaa299813479fb87204976ef0);\n        \n    \n        var popup_2d0744ee69f7d678dbd823fb4f54e890 = L.popup({\n  &quot;maxWidth&quot;: &quot;100%&quot;,\n});\n\n        \n            \n                var html_87f2f61d08366e8f6d1e3fa29eef4930 = $(`&lt;div id=&quot;html_87f2f61d08366e8f6d1e3fa29eef4930&quot; style=&quot;width: 100.0%; height: 100.0%;&quot;&gt;Cape Canaveral&lt;/div&gt;`)[0];\n                popup_2d0744ee69f7d678dbd823fb4f54e890.setContent(html_87f2f61d08366e8f6d1e3fa29eef4930);\n            \n        \n\n        marker_17d8b2e969caf4ed84c48d47bcce4aba.bindPopup(popup_2d0744ee69f7d678dbd823fb4f54e890)\n        ;\n\n        \n    \n    \n            var marker_65cf79ba01bb01dfb926247f9d981b08 = L.marker(\n                [28.5721, -80.648],\n                {\n}\n            ).addTo(marker_cluster_5d64fd55c6e66e0054942f71538e9d85);\n        \n    \n            var icon_d3da86b343a34a333b0279af4be9ee08 = L.AwesomeMarkers.icon(\n                {\n  &quot;markerColor&quot;: &quot;blue&quot;,\n  &quot;iconColor&quot;: &quot;white&quot;,\n  &quot;icon&quot;: &quot;cloud&quot;,\n  &quot;prefix&quot;: &quot;glyphicon&quot;,\n  &quot;extraClasses&quot;: &quot;fa-rotate-0&quot;,\n}\n            );\n            marker_65cf79ba01bb01dfb926247f9d981b08.setIcon(icon_d3da86b343a34a333b0279af4be9ee08);\n        \n    \n        var popup_ce1ad369fe1abe43ffe8f8b2f22671dc = L.popup({\n  &quot;maxWidth&quot;: &quot;100%&quot;,\n});\n\n        \n            \n                var html_407d838f8140d2f387d3d466a6dbc04a = $(`&lt;div id=&quot;html_407d838f8140d2f387d3d466a6dbc04a&quot; style=&quot;width: 100.0%; height: 100.0%;&quot;&gt;Kennedy Space Center&lt;/div&gt;`)[0];\n                popup_ce1ad369fe1abe43ffe8f8b2f22671dc.setContent(html_407d838f8140d2f387d3d466a6dbc04a);\n            \n        \n\n        marker_65cf79ba01bb01dfb926247f9d981b08.bindPopup(popup_ce1ad369fe1abe43ffe8f8b2f22671dc)\n        ;\n\n        \n    \n    \n            var marker_d793ae10ce2bc52813a0546c23f0557a = L.marker(\n                [34.742, -120.6108],\n                {\n}\n            ).addTo(marker_cluster_5d64fd55c6e66e0054942f71538e9d85);\n        \n    \n            var icon_73cfee9a5a2249cd7141e63ea8c5f948 = L.AwesomeMarkers.icon(\n                {\n  &quot;markerColor&quot;: &quot;blue&quot;,\n  &quot;iconColor&quot;: &quot;white&quot;,\n  &quot;icon&quot;: &quot;cloud&quot;,\n  &quot;prefix&quot;: &quot;glyphicon&quot;,\n  &quot;extraClasses&quot;: &quot;fa-rotate-0&quot;,\n}\n            );\n            marker_d793ae10ce2bc52813a0546c23f0557a.setIcon(icon_73cfee9a5a2249cd7141e63ea8c5f948);\n        \n    \n        var popup_48535f36ebbd7b513da458af72bc0111 = L.popup({\n  &quot;maxWidth&quot;: &quot;100%&quot;,\n});\n\n        \n            \n                var html_363fcd27d437ce46873e338acf6796bc = $(`&lt;div id=&quot;html_363fcd27d437ce46873e338acf6796bc&quot; style=&quot;width: 100.0%; height: 100.0%;&quot;&gt;Vandenberg Air Force Base&lt;/div&gt;`)[0];\n                popup_48535f36ebbd7b513da458af72bc0111.setContent(html_363fcd27d437ce46873e338acf6796bc);\n            \n        \n\n        marker_d793ae10ce2bc52813a0546c23f0557a.bindPopup(popup_48535f36ebbd7b513da458af72bc0111)\n        ;\n\n        \n    \n    \n            var marker_d1947c725d7da03ebe6a6d1222c77cc1 = L.marker(\n                [28.3922, -80.6077],\n                {\n}\n            ).addTo(marker_cluster_5d64fd55c6e66e0054942f71538e9d85);\n        \n    \n            var icon_d2ecef213b99dcdbb30fac1875994bde = L.AwesomeMarkers.icon(\n                {\n  &quot;markerColor&quot;: &quot;blue&quot;,\n  &quot;iconColor&quot;: &quot;white&quot;,\n  &quot;icon&quot;: &quot;cloud&quot;,\n  &quot;prefix&quot;: &quot;glyphicon&quot;,\n  &quot;extraClasses&quot;: &quot;fa-rotate-0&quot;,\n}\n            );\n            marker_d1947c725d7da03ebe6a6d1222c77cc1.setIcon(icon_d2ecef213b99dcdbb30fac1875994bde);\n        \n    \n        var popup_55f3af81cc6b90af574479537c568226 = L.popup({\n  &quot;maxWidth&quot;: &quot;100%&quot;,\n});\n\n        \n            \n                var html_40a866df3b2b4c6d402c5b593d81bae2 = $(`&lt;div id=&quot;html_40a866df3b2b4c6d402c5b593d81bae2&quot; style=&quot;width: 100.0%; height: 100.0%;&quot;&gt;Space Launch Complex 40&lt;/div&gt;`)[0];\n                popup_55f3af81cc6b90af574479537c568226.setContent(html_40a866df3b2b4c6d402c5b593d81bae2);\n            \n        \n\n        marker_d1947c725d7da03ebe6a6d1222c77cc1.bindPopup(popup_55f3af81cc6b90af574479537c568226)\n        ;\n\n        \n    \n    \n            marker_cluster_5d64fd55c6e66e0054942f71538e9d85.addTo(map_67773ceec69fd1b5e905d630b7476bd4);\n        \n    \n            var mouse_position_27a44ef366e96018481a1a1f4c33dee6 = new L.Control.MousePosition(\n                {\n  &quot;position&quot;: &quot;bottomright&quot;,\n  &quot;separator&quot;: &quot; : &quot;,\n  &quot;emptyString&quot;: &quot;Unavailable&quot;,\n  &quot;lngFirst&quot;: false,\n  &quot;numDigits&quot;: 5,\n  &quot;prefix&quot;: &quot;&quot;,\n}\n            );\n            mouse_position_27a44ef366e96018481a1a1f4c33dee6.options[&quot;latFormatter&quot;] =\n                undefined;\n            mouse_position_27a44ef366e96018481a1a1f4c33dee6.options[&quot;lngFormatter&quot;] =\n                undefined;\n            map_67773ceec69fd1b5e905d630b7476bd4.addControl(mouse_position_27a44ef366e96018481a1a1f4c33dee6);\n        \n&lt;/script&gt;\n&lt;/html&gt;\" style=\"position:absolute;width:100%;height:100%;left:0;top:0;border:none !important;\" allowfullscreen webkitallowfullscreen mozallowfullscreen></iframe></div></div>"
          },
          "metadata": {}
        }
      ],
      "execution_count": 4
    },
    {
      "cell_type": "markdown",
      "source": "First, let's try to add each site's location on a map using site's latitude and longitude coordinates\n",
      "metadata": {}
    },
    {
      "cell_type": "markdown",
      "source": "The following dataset with the name `spacex_launch_geo.csv` is an augmented dataset with latitude and longitude added for each site.\n",
      "metadata": {}
    },
    {
      "cell_type": "code",
      "source": "# Download and read the `spacex_launch_geo.csv`\nfrom js import fetch\nimport io\n\nURL = 'https://cf-courses-data.s3.us.cloud-object-storage.appdomain.cloud/IBM-DS0321EN-SkillsNetwork/datasets/spacex_launch_geo.csv'\nresp = await fetch(URL)\nspacex_csv_file = io.BytesIO((await resp.arrayBuffer()).to_py())\nspacex_df=pd.read_csv(spacex_csv_file)",
      "metadata": {
        "trusted": true
      },
      "outputs": [],
      "execution_count": 5
    },
    {
      "cell_type": "markdown",
      "source": "Now, you can take a look at what are the coordinates for each site.\n",
      "metadata": {}
    },
    {
      "cell_type": "code",
      "source": "# Select relevant sub-columns: `Launch Site`, `Lat(Latitude)`, `Long(Longitude)`, `class`\nspacex_df = spacex_df[['Launch Site', 'Lat', 'Long', 'class']]\nlaunch_sites_df = spacex_df.groupby(['Launch Site'], as_index=False).first()\nlaunch_sites_df = launch_sites_df[['Launch Site', 'Lat', 'Long']]\nlaunch_sites_df",
      "metadata": {
        "trusted": true
      },
      "outputs": [
        {
          "execution_count": 6,
          "output_type": "execute_result",
          "data": {
            "text/plain": "    Launch Site        Lat        Long\n0   CCAFS LC-40  28.562302  -80.577356\n1  CCAFS SLC-40  28.563197  -80.576820\n2    KSC LC-39A  28.573255  -80.646895\n3   VAFB SLC-4E  34.632834 -120.610745",
            "text/html": "<div>\n<style scoped>\n    .dataframe tbody tr th:only-of-type {\n        vertical-align: middle;\n    }\n\n    .dataframe tbody tr th {\n        vertical-align: top;\n    }\n\n    .dataframe thead th {\n        text-align: right;\n    }\n</style>\n<table border=\"1\" class=\"dataframe\">\n  <thead>\n    <tr style=\"text-align: right;\">\n      <th></th>\n      <th>Launch Site</th>\n      <th>Lat</th>\n      <th>Long</th>\n    </tr>\n  </thead>\n  <tbody>\n    <tr>\n      <th>0</th>\n      <td>CCAFS LC-40</td>\n      <td>28.562302</td>\n      <td>-80.577356</td>\n    </tr>\n    <tr>\n      <th>1</th>\n      <td>CCAFS SLC-40</td>\n      <td>28.563197</td>\n      <td>-80.576820</td>\n    </tr>\n    <tr>\n      <th>2</th>\n      <td>KSC LC-39A</td>\n      <td>28.573255</td>\n      <td>-80.646895</td>\n    </tr>\n    <tr>\n      <th>3</th>\n      <td>VAFB SLC-4E</td>\n      <td>34.632834</td>\n      <td>-120.610745</td>\n    </tr>\n  </tbody>\n</table>\n</div>"
          },
          "metadata": {}
        }
      ],
      "execution_count": 6
    },
    {
      "cell_type": "markdown",
      "source": "Above coordinates are just plain numbers that can not give you any intuitive insights about where are those launch sites. If you are very good at geography, you can interpret those numbers directly in your mind. If not, that's fine too. Let's visualize those locations by pinning them on a map.\n",
      "metadata": {}
    },
    {
      "cell_type": "markdown",
      "source": "We first need to create a folium `Map` object, with an initial center location to be NASA Johnson Space Center at Houston, Texas.\n",
      "metadata": {}
    },
    {
      "cell_type": "code",
      "source": "# Start location is NASA Johnson Space Center\nnasa_coordinate = [29.559684888503615, -95.0830971930759]\nsite_map = folium.Map(location=nasa_coordinate, zoom_start=10)",
      "metadata": {
        "trusted": true
      },
      "outputs": [],
      "execution_count": 7
    },
    {
      "cell_type": "markdown",
      "source": "We could use `folium.Circle` to add a highlighted circle area with a text label on a specific coordinate. For example,\n",
      "metadata": {}
    },
    {
      "cell_type": "code",
      "source": "# Create a blue circle at NASA Johnson Space Center's coordinate with a popup label showing its name\ncircle = folium.Circle(nasa_coordinate, radius=1000, color='#d35400', fill=True).add_child(folium.Popup('NASA Johnson Space Center'))\n# Create a blue circle at NASA Johnson Space Center's coordinate with a icon showing its name\nmarker = folium.map.Marker(\n    nasa_coordinate,\n    # Create an icon as a text label\n    icon=DivIcon(\n        icon_size=(20,20),\n        icon_anchor=(0,0),\n        html='<div style=\"font-size: 12; color:#d35400;\"><b>%s</b></div>' % 'NASA JSC',\n        )\n    )\nsite_map.add_child(circle)\nsite_map.add_child(marker)",
      "metadata": {
        "trusted": true
      },
      "outputs": [
        {
          "execution_count": 8,
          "output_type": "execute_result",
          "data": {
            "text/plain": "<folium.folium.Map at 0x393b560>",
            "text/html": "<div style=\"width:100%;\"><div style=\"position:relative;width:100%;height:0;padding-bottom:60%;\"><span style=\"color:#565656\">Make this Notebook Trusted to load map: File -> Trust Notebook</span><iframe srcdoc=\"&lt;!DOCTYPE html&gt;\n&lt;html&gt;\n&lt;head&gt;\n    \n    &lt;meta http-equiv=&quot;content-type&quot; content=&quot;text/html; charset=UTF-8&quot; /&gt;\n    \n        &lt;script&gt;\n            L_NO_TOUCH = false;\n            L_DISABLE_3D = false;\n        &lt;/script&gt;\n    \n    &lt;style&gt;html, body {width: 100%;height: 100%;margin: 0;padding: 0;}&lt;/style&gt;\n    &lt;style&gt;#map {position:absolute;top:0;bottom:0;right:0;left:0;}&lt;/style&gt;\n    &lt;script src=&quot;https://cdn.jsdelivr.net/npm/leaflet@1.9.3/dist/leaflet.js&quot;&gt;&lt;/script&gt;\n    &lt;script src=&quot;https://code.jquery.com/jquery-3.7.1.min.js&quot;&gt;&lt;/script&gt;\n    &lt;script src=&quot;https://cdn.jsdelivr.net/npm/bootstrap@5.2.2/dist/js/bootstrap.bundle.min.js&quot;&gt;&lt;/script&gt;\n    &lt;script src=&quot;https://cdnjs.cloudflare.com/ajax/libs/Leaflet.awesome-markers/2.0.2/leaflet.awesome-markers.js&quot;&gt;&lt;/script&gt;\n    &lt;link rel=&quot;stylesheet&quot; href=&quot;https://cdn.jsdelivr.net/npm/leaflet@1.9.3/dist/leaflet.css&quot;/&gt;\n    &lt;link rel=&quot;stylesheet&quot; href=&quot;https://cdn.jsdelivr.net/npm/bootstrap@5.2.2/dist/css/bootstrap.min.css&quot;/&gt;\n    &lt;link rel=&quot;stylesheet&quot; href=&quot;https://netdna.bootstrapcdn.com/bootstrap/3.0.0/css/bootstrap-glyphicons.css&quot;/&gt;\n    &lt;link rel=&quot;stylesheet&quot; href=&quot;https://cdn.jsdelivr.net/npm/@fortawesome/fontawesome-free@6.2.0/css/all.min.css&quot;/&gt;\n    &lt;link rel=&quot;stylesheet&quot; href=&quot;https://cdnjs.cloudflare.com/ajax/libs/Leaflet.awesome-markers/2.0.2/leaflet.awesome-markers.css&quot;/&gt;\n    &lt;link rel=&quot;stylesheet&quot; href=&quot;https://cdn.jsdelivr.net/gh/python-visualization/folium/folium/templates/leaflet.awesome.rotate.min.css&quot;/&gt;\n    \n            &lt;meta name=&quot;viewport&quot; content=&quot;width=device-width,\n                initial-scale=1.0, maximum-scale=1.0, user-scalable=no&quot; /&gt;\n            &lt;style&gt;\n                #map_cf57ab5b4ddeff5a02a7cf369bad6e75 {\n                    position: relative;\n                    width: 100.0%;\n                    height: 100.0%;\n                    left: 0.0%;\n                    top: 0.0%;\n                }\n                .leaflet-container { font-size: 1rem; }\n            &lt;/style&gt;\n        \n&lt;/head&gt;\n&lt;body&gt;\n    \n    \n            &lt;div class=&quot;folium-map&quot; id=&quot;map_cf57ab5b4ddeff5a02a7cf369bad6e75&quot; &gt;&lt;/div&gt;\n        \n&lt;/body&gt;\n&lt;script&gt;\n    \n    \n            var map_cf57ab5b4ddeff5a02a7cf369bad6e75 = L.map(\n                &quot;map_cf57ab5b4ddeff5a02a7cf369bad6e75&quot;,\n                {\n                    center: [29.559684888503615, -95.0830971930759],\n                    crs: L.CRS.EPSG3857,\n                    ...{\n  &quot;zoom&quot;: 10,\n  &quot;zoomControl&quot;: true,\n  &quot;preferCanvas&quot;: false,\n}\n\n                }\n            );\n\n            \n\n        \n    \n            var tile_layer_1eb4858b145ddaa23ca61d843ae78c71 = L.tileLayer(\n                &quot;https://tile.openstreetmap.org/{z}/{x}/{y}.png&quot;,\n                {\n  &quot;minZoom&quot;: 0,\n  &quot;maxZoom&quot;: 19,\n  &quot;maxNativeZoom&quot;: 19,\n  &quot;noWrap&quot;: false,\n  &quot;attribution&quot;: &quot;\\u0026copy; \\u003ca href=\\&quot;https://www.openstreetmap.org/copyright\\&quot;\\u003eOpenStreetMap\\u003c/a\\u003e contributors&quot;,\n  &quot;subdomains&quot;: &quot;abc&quot;,\n  &quot;detectRetina&quot;: false,\n  &quot;tms&quot;: false,\n  &quot;opacity&quot;: 1,\n}\n\n            );\n        \n    \n            tile_layer_1eb4858b145ddaa23ca61d843ae78c71.addTo(map_cf57ab5b4ddeff5a02a7cf369bad6e75);\n        \n    \n            var circle_596c4e4b2034cfc02c9e8bdb14803b48 = L.circle(\n                [29.559684888503615, -95.0830971930759],\n                {&quot;bubblingMouseEvents&quot;: true, &quot;color&quot;: &quot;#d35400&quot;, &quot;dashArray&quot;: null, &quot;dashOffset&quot;: null, &quot;fill&quot;: true, &quot;fillColor&quot;: &quot;#d35400&quot;, &quot;fillOpacity&quot;: 0.2, &quot;fillRule&quot;: &quot;evenodd&quot;, &quot;lineCap&quot;: &quot;round&quot;, &quot;lineJoin&quot;: &quot;round&quot;, &quot;opacity&quot;: 1.0, &quot;radius&quot;: 1000, &quot;stroke&quot;: true, &quot;weight&quot;: 3}\n            ).addTo(map_cf57ab5b4ddeff5a02a7cf369bad6e75);\n        \n    \n        var popup_b79c25d377641e2e8e4c806f881a235d = L.popup({\n  &quot;maxWidth&quot;: &quot;100%&quot;,\n});\n\n        \n            \n                var html_12d0b286ba54c9b7b2996a352665b92e = $(`&lt;div id=&quot;html_12d0b286ba54c9b7b2996a352665b92e&quot; style=&quot;width: 100.0%; height: 100.0%;&quot;&gt;NASA Johnson Space Center&lt;/div&gt;`)[0];\n                popup_b79c25d377641e2e8e4c806f881a235d.setContent(html_12d0b286ba54c9b7b2996a352665b92e);\n            \n        \n\n        circle_596c4e4b2034cfc02c9e8bdb14803b48.bindPopup(popup_b79c25d377641e2e8e4c806f881a235d)\n        ;\n\n        \n    \n    \n            var marker_dadc70bd2bb48f4288e8a64f3d14434b = L.marker(\n                [29.559684888503615, -95.0830971930759],\n                {\n}\n            ).addTo(map_cf57ab5b4ddeff5a02a7cf369bad6e75);\n        \n    \n            var div_icon_c570b5df0e954e8bdd5ece09d8a9dcd9 = L.divIcon({\n  &quot;html&quot;: &quot;\\u003cdiv style=\\&quot;font-size: 12; color:#d35400;\\&quot;\\u003e\\u003cb\\u003eNASA JSC\\u003c/b\\u003e\\u003c/div\\u003e&quot;,\n  &quot;iconSize&quot;: [20, 20],\n  &quot;iconAnchor&quot;: [0, 0],\n  &quot;className&quot;: &quot;empty&quot;,\n});\n            marker_dadc70bd2bb48f4288e8a64f3d14434b.setIcon(div_icon_c570b5df0e954e8bdd5ece09d8a9dcd9);\n        \n&lt;/script&gt;\n&lt;/html&gt;\" style=\"position:absolute;width:100%;height:100%;left:0;top:0;border:none !important;\" allowfullscreen webkitallowfullscreen mozallowfullscreen></iframe></div></div>"
          },
          "metadata": {}
        }
      ],
      "execution_count": 8
    },
    {
      "cell_type": "markdown",
      "source": "and you should find a small yellow circle near the city of Houston and you can zoom-in to see a larger circle.\n",
      "metadata": {}
    },
    {
      "cell_type": "markdown",
      "source": "Now, let's add a circle for each launch site in data frame `launch_sites`\n",
      "metadata": {}
    },
    {
      "cell_type": "markdown",
      "source": "*TODO:*  Create and add `folium.Circle` and `folium.Marker` for each launch site on the site map\n",
      "metadata": {}
    },
    {
      "cell_type": "markdown",
      "source": "An example of folium.Circle:\n",
      "metadata": {}
    },
    {
      "cell_type": "markdown",
      "source": "`folium.Circle(coordinate, radius=1000, color='#000000', fill=True).add_child(folium.Popup(...))`\n",
      "metadata": {}
    },
    {
      "cell_type": "markdown",
      "source": "An example of folium.Marker:\n",
      "metadata": {}
    },
    {
      "cell_type": "markdown",
      "source": "`folium.map.Marker(coordinate, icon=DivIcon(icon_size=(20,20),icon_anchor=(0,0), html='<div style=\"font-size: 12; color:#d35400;\"><b>%s</b></div>' % 'label', ))`\n",
      "metadata": {}
    },
    {
      "cell_type": "code",
      "source": "# Initial the map\nsite_map = folium.Map(location=nasa_coordinate, zoom_start=5)\n# For each launch site, add a Circle object based on its coordinate (Lat, Long) values. In addition, add Launch site name as a popup label\nlaunch_sites = [\n    {\"site\": \"Cape Canaveral\", \"latitude\": 28.3922, \"longitude\": -80.6077},\n    {\"site\": \"Kennedy Space Center\", \"latitude\": 28.5721, \"longitude\": -80.6480},\n    {\"site\": \"Vandenberg Air Force Base\", \"latitude\": 34.7420, \"longitude\": -120.6108},\n    # Add more launch sites as needed\n]\n\n# NASA Johnson Space Center coordinate (for center of the map)\nnasa_coordinate = [29.5502, -95.097]\n\n# Initialize the map\nsite_map = folium.Map(location=nasa_coordinate, zoom_start=5)\n\n# Iterate over each launch site\nfor site in launch_sites:\n    # Get the coordinates\n    coordinate = [site['latitude'], site['longitude']]\n    \n    # Create a Circle object for each launch site\n    folium.Circle(\n        coordinate,\n        radius=1000,  # Radius of the circle (in meters)\n        color='#000000',  # Circle color\n        fill=True,\n        fill_opacity=0.4  # Set the transparency\n    ).add_child(folium.Popup(site['site'])).add_to(site_map)\n    \n    # Create a Marker with a custom text label\n    folium.map.Marker(\n        coordinate,\n        icon=DivIcon(\n            icon_size=(20, 20),\n            icon_anchor=(0, 0),\n            html='<div style=\"font-size: 12px; color:#d35400;\"><b>%s</b></div>' % site['site']\n        )\n    ).add_to(site_map)\n\n# Display the map\nsite_map",
      "metadata": {
        "trusted": true
      },
      "outputs": [
        {
          "execution_count": 9,
          "output_type": "execute_result",
          "data": {
            "text/plain": "<folium.folium.Map at 0x5ea3510>",
            "text/html": "<div style=\"width:100%;\"><div style=\"position:relative;width:100%;height:0;padding-bottom:60%;\"><span style=\"color:#565656\">Make this Notebook Trusted to load map: File -> Trust Notebook</span><iframe srcdoc=\"&lt;!DOCTYPE html&gt;\n&lt;html&gt;\n&lt;head&gt;\n    \n    &lt;meta http-equiv=&quot;content-type&quot; content=&quot;text/html; charset=UTF-8&quot; /&gt;\n    \n        &lt;script&gt;\n            L_NO_TOUCH = false;\n            L_DISABLE_3D = false;\n        &lt;/script&gt;\n    \n    &lt;style&gt;html, body {width: 100%;height: 100%;margin: 0;padding: 0;}&lt;/style&gt;\n    &lt;style&gt;#map {position:absolute;top:0;bottom:0;right:0;left:0;}&lt;/style&gt;\n    &lt;script src=&quot;https://cdn.jsdelivr.net/npm/leaflet@1.9.3/dist/leaflet.js&quot;&gt;&lt;/script&gt;\n    &lt;script src=&quot;https://code.jquery.com/jquery-3.7.1.min.js&quot;&gt;&lt;/script&gt;\n    &lt;script src=&quot;https://cdn.jsdelivr.net/npm/bootstrap@5.2.2/dist/js/bootstrap.bundle.min.js&quot;&gt;&lt;/script&gt;\n    &lt;script src=&quot;https://cdnjs.cloudflare.com/ajax/libs/Leaflet.awesome-markers/2.0.2/leaflet.awesome-markers.js&quot;&gt;&lt;/script&gt;\n    &lt;link rel=&quot;stylesheet&quot; href=&quot;https://cdn.jsdelivr.net/npm/leaflet@1.9.3/dist/leaflet.css&quot;/&gt;\n    &lt;link rel=&quot;stylesheet&quot; href=&quot;https://cdn.jsdelivr.net/npm/bootstrap@5.2.2/dist/css/bootstrap.min.css&quot;/&gt;\n    &lt;link rel=&quot;stylesheet&quot; href=&quot;https://netdna.bootstrapcdn.com/bootstrap/3.0.0/css/bootstrap-glyphicons.css&quot;/&gt;\n    &lt;link rel=&quot;stylesheet&quot; href=&quot;https://cdn.jsdelivr.net/npm/@fortawesome/fontawesome-free@6.2.0/css/all.min.css&quot;/&gt;\n    &lt;link rel=&quot;stylesheet&quot; href=&quot;https://cdnjs.cloudflare.com/ajax/libs/Leaflet.awesome-markers/2.0.2/leaflet.awesome-markers.css&quot;/&gt;\n    &lt;link rel=&quot;stylesheet&quot; href=&quot;https://cdn.jsdelivr.net/gh/python-visualization/folium/folium/templates/leaflet.awesome.rotate.min.css&quot;/&gt;\n    \n            &lt;meta name=&quot;viewport&quot; content=&quot;width=device-width,\n                initial-scale=1.0, maximum-scale=1.0, user-scalable=no&quot; /&gt;\n            &lt;style&gt;\n                #map_19e7ca429ce7fb49bd0c8c819ed8489a {\n                    position: relative;\n                    width: 100.0%;\n                    height: 100.0%;\n                    left: 0.0%;\n                    top: 0.0%;\n                }\n                .leaflet-container { font-size: 1rem; }\n            &lt;/style&gt;\n        \n&lt;/head&gt;\n&lt;body&gt;\n    \n    \n            &lt;div class=&quot;folium-map&quot; id=&quot;map_19e7ca429ce7fb49bd0c8c819ed8489a&quot; &gt;&lt;/div&gt;\n        \n&lt;/body&gt;\n&lt;script&gt;\n    \n    \n            var map_19e7ca429ce7fb49bd0c8c819ed8489a = L.map(\n                &quot;map_19e7ca429ce7fb49bd0c8c819ed8489a&quot;,\n                {\n                    center: [29.5502, -95.097],\n                    crs: L.CRS.EPSG3857,\n                    ...{\n  &quot;zoom&quot;: 5,\n  &quot;zoomControl&quot;: true,\n  &quot;preferCanvas&quot;: false,\n}\n\n                }\n            );\n\n            \n\n        \n    \n            var tile_layer_0f953b33e83d55ac4e06817562075559 = L.tileLayer(\n                &quot;https://tile.openstreetmap.org/{z}/{x}/{y}.png&quot;,\n                {\n  &quot;minZoom&quot;: 0,\n  &quot;maxZoom&quot;: 19,\n  &quot;maxNativeZoom&quot;: 19,\n  &quot;noWrap&quot;: false,\n  &quot;attribution&quot;: &quot;\\u0026copy; \\u003ca href=\\&quot;https://www.openstreetmap.org/copyright\\&quot;\\u003eOpenStreetMap\\u003c/a\\u003e contributors&quot;,\n  &quot;subdomains&quot;: &quot;abc&quot;,\n  &quot;detectRetina&quot;: false,\n  &quot;tms&quot;: false,\n  &quot;opacity&quot;: 1,\n}\n\n            );\n        \n    \n            tile_layer_0f953b33e83d55ac4e06817562075559.addTo(map_19e7ca429ce7fb49bd0c8c819ed8489a);\n        \n    \n            var circle_b01e1cb96422617c9c137535c3c33431 = L.circle(\n                [28.3922, -80.6077],\n                {&quot;bubblingMouseEvents&quot;: true, &quot;color&quot;: &quot;#000000&quot;, &quot;dashArray&quot;: null, &quot;dashOffset&quot;: null, &quot;fill&quot;: true, &quot;fillColor&quot;: &quot;#000000&quot;, &quot;fillOpacity&quot;: 0.4, &quot;fillRule&quot;: &quot;evenodd&quot;, &quot;lineCap&quot;: &quot;round&quot;, &quot;lineJoin&quot;: &quot;round&quot;, &quot;opacity&quot;: 1.0, &quot;radius&quot;: 1000, &quot;stroke&quot;: true, &quot;weight&quot;: 3}\n            ).addTo(map_19e7ca429ce7fb49bd0c8c819ed8489a);\n        \n    \n        var popup_a2f362eb0b2039c962577d1e767decdd = L.popup({\n  &quot;maxWidth&quot;: &quot;100%&quot;,\n});\n\n        \n            \n                var html_3f7e956056db8e811437f7c0805b127c = $(`&lt;div id=&quot;html_3f7e956056db8e811437f7c0805b127c&quot; style=&quot;width: 100.0%; height: 100.0%;&quot;&gt;Cape Canaveral&lt;/div&gt;`)[0];\n                popup_a2f362eb0b2039c962577d1e767decdd.setContent(html_3f7e956056db8e811437f7c0805b127c);\n            \n        \n\n        circle_b01e1cb96422617c9c137535c3c33431.bindPopup(popup_a2f362eb0b2039c962577d1e767decdd)\n        ;\n\n        \n    \n    \n            var marker_5cfdfd1cde75dcbc72656de4955dc81a = L.marker(\n                [28.3922, -80.6077],\n                {\n}\n            ).addTo(map_19e7ca429ce7fb49bd0c8c819ed8489a);\n        \n    \n            var div_icon_3c80699dc92441daca3f88c241c6a800 = L.divIcon({\n  &quot;html&quot;: &quot;\\u003cdiv style=\\&quot;font-size: 12px; color:#d35400;\\&quot;\\u003e\\u003cb\\u003eCape Canaveral\\u003c/b\\u003e\\u003c/div\\u003e&quot;,\n  &quot;iconSize&quot;: [20, 20],\n  &quot;iconAnchor&quot;: [0, 0],\n  &quot;className&quot;: &quot;empty&quot;,\n});\n            marker_5cfdfd1cde75dcbc72656de4955dc81a.setIcon(div_icon_3c80699dc92441daca3f88c241c6a800);\n        \n    \n            var circle_d3b6861845775eceacbc9b447c841c74 = L.circle(\n                [28.5721, -80.648],\n                {&quot;bubblingMouseEvents&quot;: true, &quot;color&quot;: &quot;#000000&quot;, &quot;dashArray&quot;: null, &quot;dashOffset&quot;: null, &quot;fill&quot;: true, &quot;fillColor&quot;: &quot;#000000&quot;, &quot;fillOpacity&quot;: 0.4, &quot;fillRule&quot;: &quot;evenodd&quot;, &quot;lineCap&quot;: &quot;round&quot;, &quot;lineJoin&quot;: &quot;round&quot;, &quot;opacity&quot;: 1.0, &quot;radius&quot;: 1000, &quot;stroke&quot;: true, &quot;weight&quot;: 3}\n            ).addTo(map_19e7ca429ce7fb49bd0c8c819ed8489a);\n        \n    \n        var popup_23d10b155e1967ae3acf12e3380c3035 = L.popup({\n  &quot;maxWidth&quot;: &quot;100%&quot;,\n});\n\n        \n            \n                var html_2c9647c7402bb358eee86ce7de816670 = $(`&lt;div id=&quot;html_2c9647c7402bb358eee86ce7de816670&quot; style=&quot;width: 100.0%; height: 100.0%;&quot;&gt;Kennedy Space Center&lt;/div&gt;`)[0];\n                popup_23d10b155e1967ae3acf12e3380c3035.setContent(html_2c9647c7402bb358eee86ce7de816670);\n            \n        \n\n        circle_d3b6861845775eceacbc9b447c841c74.bindPopup(popup_23d10b155e1967ae3acf12e3380c3035)\n        ;\n\n        \n    \n    \n            var marker_9925ebfc9ed6301306287a906a043850 = L.marker(\n                [28.5721, -80.648],\n                {\n}\n            ).addTo(map_19e7ca429ce7fb49bd0c8c819ed8489a);\n        \n    \n            var div_icon_c452a5d68018fa9cf16df9a7ad863a3a = L.divIcon({\n  &quot;html&quot;: &quot;\\u003cdiv style=\\&quot;font-size: 12px; color:#d35400;\\&quot;\\u003e\\u003cb\\u003eKennedy Space Center\\u003c/b\\u003e\\u003c/div\\u003e&quot;,\n  &quot;iconSize&quot;: [20, 20],\n  &quot;iconAnchor&quot;: [0, 0],\n  &quot;className&quot;: &quot;empty&quot;,\n});\n            marker_9925ebfc9ed6301306287a906a043850.setIcon(div_icon_c452a5d68018fa9cf16df9a7ad863a3a);\n        \n    \n            var circle_118f216fe7f32a604d91f9026998c987 = L.circle(\n                [34.742, -120.6108],\n                {&quot;bubblingMouseEvents&quot;: true, &quot;color&quot;: &quot;#000000&quot;, &quot;dashArray&quot;: null, &quot;dashOffset&quot;: null, &quot;fill&quot;: true, &quot;fillColor&quot;: &quot;#000000&quot;, &quot;fillOpacity&quot;: 0.4, &quot;fillRule&quot;: &quot;evenodd&quot;, &quot;lineCap&quot;: &quot;round&quot;, &quot;lineJoin&quot;: &quot;round&quot;, &quot;opacity&quot;: 1.0, &quot;radius&quot;: 1000, &quot;stroke&quot;: true, &quot;weight&quot;: 3}\n            ).addTo(map_19e7ca429ce7fb49bd0c8c819ed8489a);\n        \n    \n        var popup_c6bfe7cb5c8be0ad27f56de60333348e = L.popup({\n  &quot;maxWidth&quot;: &quot;100%&quot;,\n});\n\n        \n            \n                var html_c813da281da6c855b43cfb2c977d0612 = $(`&lt;div id=&quot;html_c813da281da6c855b43cfb2c977d0612&quot; style=&quot;width: 100.0%; height: 100.0%;&quot;&gt;Vandenberg Air Force Base&lt;/div&gt;`)[0];\n                popup_c6bfe7cb5c8be0ad27f56de60333348e.setContent(html_c813da281da6c855b43cfb2c977d0612);\n            \n        \n\n        circle_118f216fe7f32a604d91f9026998c987.bindPopup(popup_c6bfe7cb5c8be0ad27f56de60333348e)\n        ;\n\n        \n    \n    \n            var marker_01fb940afa74ba941180846acad1bbed = L.marker(\n                [34.742, -120.6108],\n                {\n}\n            ).addTo(map_19e7ca429ce7fb49bd0c8c819ed8489a);\n        \n    \n            var div_icon_1096761f52dcabdf13a5fcc37cfeb363 = L.divIcon({\n  &quot;html&quot;: &quot;\\u003cdiv style=\\&quot;font-size: 12px; color:#d35400;\\&quot;\\u003e\\u003cb\\u003eVandenberg Air Force Base\\u003c/b\\u003e\\u003c/div\\u003e&quot;,\n  &quot;iconSize&quot;: [20, 20],\n  &quot;iconAnchor&quot;: [0, 0],\n  &quot;className&quot;: &quot;empty&quot;,\n});\n            marker_01fb940afa74ba941180846acad1bbed.setIcon(div_icon_1096761f52dcabdf13a5fcc37cfeb363);\n        \n&lt;/script&gt;\n&lt;/html&gt;\" style=\"position:absolute;width:100%;height:100%;left:0;top:0;border:none !important;\" allowfullscreen webkitallowfullscreen mozallowfullscreen></iframe></div></div>"
          },
          "metadata": {}
        }
      ],
      "execution_count": 9
    },
    {
      "cell_type": "markdown",
      "source": "The generated map with marked launch sites should look similar to the following:\n",
      "metadata": {}
    },
    {
      "cell_type": "markdown",
      "source": "<center>\n    <img src=\"https://cf-courses-data.s3.us.cloud-object-storage.appdomain.cloud/IBM-DS0321EN-SkillsNetwork/labs/module_3/images/launch_site_markers.png\">\n</center>\n",
      "metadata": {}
    },
    {
      "cell_type": "markdown",
      "source": "Now, you can explore the map by zoom-in/out the marked areas\n, and try to answer the following questions:\n\n*   Are all launch sites in proximity to the Equator line?\n*   Are all launch sites in very close proximity to the coast?\n\nAlso please try to explain your findings.\n",
      "metadata": {}
    },
    {
      "cell_type": "code",
      "source": "# Task 2: Mark the success/failed launches for each site on the map\nlaunch_sites = [\n    {\"site\": \"Cape Canaveral\", \"latitude\": 28.3922, \"longitude\": -80.6077, \"outcome\": \"Success\"},\n    {\"site\": \"Kennedy Space Center\", \"latitude\": 28.5721, \"longitude\": -80.6480, \"outcome\": \"Failure\"},\n    {\"site\": \"Vandenberg Air Force Base\", \"latitude\": 34.7420, \"longitude\": -120.6108, \"outcome\": \"Success\"},\n    # Add more launch sites and their outcomes as needed\n]\n\n# NASA Johnson Space Center coordinate (for center of the map)\nnasa_coordinate = [29.5502, -95.097]\n\n# Initialize the map\nsite_map = folium.Map(location=nasa_coordinate, zoom_start=5)\n\n# Iterate over each launch site\nfor site in launch_sites:\n    # Get the coordinates and outcome\n    coordinate = [site['latitude'], site['longitude']]\n    outcome = site['outcome']\n    \n    # Define the color for the circle and marker based on outcome\n    if outcome == \"Success\":\n        circle_color = 'green'  # Success = green circle\n        marker_color = 'green'  # Success = green marker\n    else:\n        circle_color = 'red'  # Failure = red circle\n        marker_color = 'red'  # Failure = red marker\n    \n    # Create a Circle object for each launch site (based on outcome)\n    folium.Circle(\n        coordinate,\n        radius=1000,  # Radius of the circle (in meters)\n        color=circle_color,  # Circle color\n        fill=True,\n        fill_opacity=0.4  # Set the transparency\n    ).add_child(folium.Popup(f'{site[\"site\"]}: {outcome}')).add_to(site_map)\n    \n    # Create a Marker with a custom text label (based on outcome)\n    folium.map.Marker(\n        coordinate,\n        icon=DivIcon(\n            icon_size=(20, 20),\n            icon_anchor=(0, 0),\n            html='<div style=\"font-size: 12px; color:{};\"><b>{}</b></div>'.format(marker_color, site['site'])\n        )\n    ).add_to(site_map)\n\n# Display the map\nsite_map",
      "metadata": {
        "trusted": true
      },
      "outputs": [
        {
          "execution_count": 10,
          "output_type": "execute_result",
          "data": {
            "text/plain": "<folium.folium.Map at 0x4f47160>",
            "text/html": "<div style=\"width:100%;\"><div style=\"position:relative;width:100%;height:0;padding-bottom:60%;\"><span style=\"color:#565656\">Make this Notebook Trusted to load map: File -> Trust Notebook</span><iframe srcdoc=\"&lt;!DOCTYPE html&gt;\n&lt;html&gt;\n&lt;head&gt;\n    \n    &lt;meta http-equiv=&quot;content-type&quot; content=&quot;text/html; charset=UTF-8&quot; /&gt;\n    \n        &lt;script&gt;\n            L_NO_TOUCH = false;\n            L_DISABLE_3D = false;\n        &lt;/script&gt;\n    \n    &lt;style&gt;html, body {width: 100%;height: 100%;margin: 0;padding: 0;}&lt;/style&gt;\n    &lt;style&gt;#map {position:absolute;top:0;bottom:0;right:0;left:0;}&lt;/style&gt;\n    &lt;script src=&quot;https://cdn.jsdelivr.net/npm/leaflet@1.9.3/dist/leaflet.js&quot;&gt;&lt;/script&gt;\n    &lt;script src=&quot;https://code.jquery.com/jquery-3.7.1.min.js&quot;&gt;&lt;/script&gt;\n    &lt;script src=&quot;https://cdn.jsdelivr.net/npm/bootstrap@5.2.2/dist/js/bootstrap.bundle.min.js&quot;&gt;&lt;/script&gt;\n    &lt;script src=&quot;https://cdnjs.cloudflare.com/ajax/libs/Leaflet.awesome-markers/2.0.2/leaflet.awesome-markers.js&quot;&gt;&lt;/script&gt;\n    &lt;link rel=&quot;stylesheet&quot; href=&quot;https://cdn.jsdelivr.net/npm/leaflet@1.9.3/dist/leaflet.css&quot;/&gt;\n    &lt;link rel=&quot;stylesheet&quot; href=&quot;https://cdn.jsdelivr.net/npm/bootstrap@5.2.2/dist/css/bootstrap.min.css&quot;/&gt;\n    &lt;link rel=&quot;stylesheet&quot; href=&quot;https://netdna.bootstrapcdn.com/bootstrap/3.0.0/css/bootstrap-glyphicons.css&quot;/&gt;\n    &lt;link rel=&quot;stylesheet&quot; href=&quot;https://cdn.jsdelivr.net/npm/@fortawesome/fontawesome-free@6.2.0/css/all.min.css&quot;/&gt;\n    &lt;link rel=&quot;stylesheet&quot; href=&quot;https://cdnjs.cloudflare.com/ajax/libs/Leaflet.awesome-markers/2.0.2/leaflet.awesome-markers.css&quot;/&gt;\n    &lt;link rel=&quot;stylesheet&quot; href=&quot;https://cdn.jsdelivr.net/gh/python-visualization/folium/folium/templates/leaflet.awesome.rotate.min.css&quot;/&gt;\n    \n            &lt;meta name=&quot;viewport&quot; content=&quot;width=device-width,\n                initial-scale=1.0, maximum-scale=1.0, user-scalable=no&quot; /&gt;\n            &lt;style&gt;\n                #map_ff705f5adf96d4e27b02d0857e6d453e {\n                    position: relative;\n                    width: 100.0%;\n                    height: 100.0%;\n                    left: 0.0%;\n                    top: 0.0%;\n                }\n                .leaflet-container { font-size: 1rem; }\n            &lt;/style&gt;\n        \n&lt;/head&gt;\n&lt;body&gt;\n    \n    \n            &lt;div class=&quot;folium-map&quot; id=&quot;map_ff705f5adf96d4e27b02d0857e6d453e&quot; &gt;&lt;/div&gt;\n        \n&lt;/body&gt;\n&lt;script&gt;\n    \n    \n            var map_ff705f5adf96d4e27b02d0857e6d453e = L.map(\n                &quot;map_ff705f5adf96d4e27b02d0857e6d453e&quot;,\n                {\n                    center: [29.5502, -95.097],\n                    crs: L.CRS.EPSG3857,\n                    ...{\n  &quot;zoom&quot;: 5,\n  &quot;zoomControl&quot;: true,\n  &quot;preferCanvas&quot;: false,\n}\n\n                }\n            );\n\n            \n\n        \n    \n            var tile_layer_9fd867cb8fb8347409711264304a2458 = L.tileLayer(\n                &quot;https://tile.openstreetmap.org/{z}/{x}/{y}.png&quot;,\n                {\n  &quot;minZoom&quot;: 0,\n  &quot;maxZoom&quot;: 19,\n  &quot;maxNativeZoom&quot;: 19,\n  &quot;noWrap&quot;: false,\n  &quot;attribution&quot;: &quot;\\u0026copy; \\u003ca href=\\&quot;https://www.openstreetmap.org/copyright\\&quot;\\u003eOpenStreetMap\\u003c/a\\u003e contributors&quot;,\n  &quot;subdomains&quot;: &quot;abc&quot;,\n  &quot;detectRetina&quot;: false,\n  &quot;tms&quot;: false,\n  &quot;opacity&quot;: 1,\n}\n\n            );\n        \n    \n            tile_layer_9fd867cb8fb8347409711264304a2458.addTo(map_ff705f5adf96d4e27b02d0857e6d453e);\n        \n    \n            var circle_fe5843917dfda16b5a26ac0b6ce29e6b = L.circle(\n                [28.3922, -80.6077],\n                {&quot;bubblingMouseEvents&quot;: true, &quot;color&quot;: &quot;green&quot;, &quot;dashArray&quot;: null, &quot;dashOffset&quot;: null, &quot;fill&quot;: true, &quot;fillColor&quot;: &quot;green&quot;, &quot;fillOpacity&quot;: 0.4, &quot;fillRule&quot;: &quot;evenodd&quot;, &quot;lineCap&quot;: &quot;round&quot;, &quot;lineJoin&quot;: &quot;round&quot;, &quot;opacity&quot;: 1.0, &quot;radius&quot;: 1000, &quot;stroke&quot;: true, &quot;weight&quot;: 3}\n            ).addTo(map_ff705f5adf96d4e27b02d0857e6d453e);\n        \n    \n        var popup_0f2233d52df8b17046394b6dabd50cd0 = L.popup({\n  &quot;maxWidth&quot;: &quot;100%&quot;,\n});\n\n        \n            \n                var html_9326a6c2273f4ebf69b1150017e9ab11 = $(`&lt;div id=&quot;html_9326a6c2273f4ebf69b1150017e9ab11&quot; style=&quot;width: 100.0%; height: 100.0%;&quot;&gt;Cape Canaveral: Success&lt;/div&gt;`)[0];\n                popup_0f2233d52df8b17046394b6dabd50cd0.setContent(html_9326a6c2273f4ebf69b1150017e9ab11);\n            \n        \n\n        circle_fe5843917dfda16b5a26ac0b6ce29e6b.bindPopup(popup_0f2233d52df8b17046394b6dabd50cd0)\n        ;\n\n        \n    \n    \n            var marker_e4c8b820e1eec06ab17905f076c80921 = L.marker(\n                [28.3922, -80.6077],\n                {\n}\n            ).addTo(map_ff705f5adf96d4e27b02d0857e6d453e);\n        \n    \n            var div_icon_63178cbae61cda779c95cf11b99a8090 = L.divIcon({\n  &quot;html&quot;: &quot;\\u003cdiv style=\\&quot;font-size: 12px; color:green;\\&quot;\\u003e\\u003cb\\u003eCape Canaveral\\u003c/b\\u003e\\u003c/div\\u003e&quot;,\n  &quot;iconSize&quot;: [20, 20],\n  &quot;iconAnchor&quot;: [0, 0],\n  &quot;className&quot;: &quot;empty&quot;,\n});\n            marker_e4c8b820e1eec06ab17905f076c80921.setIcon(div_icon_63178cbae61cda779c95cf11b99a8090);\n        \n    \n            var circle_e5bb4f31e6c13b42fbc3dc6a813ea8f9 = L.circle(\n                [28.5721, -80.648],\n                {&quot;bubblingMouseEvents&quot;: true, &quot;color&quot;: &quot;red&quot;, &quot;dashArray&quot;: null, &quot;dashOffset&quot;: null, &quot;fill&quot;: true, &quot;fillColor&quot;: &quot;red&quot;, &quot;fillOpacity&quot;: 0.4, &quot;fillRule&quot;: &quot;evenodd&quot;, &quot;lineCap&quot;: &quot;round&quot;, &quot;lineJoin&quot;: &quot;round&quot;, &quot;opacity&quot;: 1.0, &quot;radius&quot;: 1000, &quot;stroke&quot;: true, &quot;weight&quot;: 3}\n            ).addTo(map_ff705f5adf96d4e27b02d0857e6d453e);\n        \n    \n        var popup_53711b468f275b8a9fee813bd1a61c46 = L.popup({\n  &quot;maxWidth&quot;: &quot;100%&quot;,\n});\n\n        \n            \n                var html_384b749ab43caaa3e21f793f629dc0f4 = $(`&lt;div id=&quot;html_384b749ab43caaa3e21f793f629dc0f4&quot; style=&quot;width: 100.0%; height: 100.0%;&quot;&gt;Kennedy Space Center: Failure&lt;/div&gt;`)[0];\n                popup_53711b468f275b8a9fee813bd1a61c46.setContent(html_384b749ab43caaa3e21f793f629dc0f4);\n            \n        \n\n        circle_e5bb4f31e6c13b42fbc3dc6a813ea8f9.bindPopup(popup_53711b468f275b8a9fee813bd1a61c46)\n        ;\n\n        \n    \n    \n            var marker_34a55217e3ca5f241d88ce08d78e608d = L.marker(\n                [28.5721, -80.648],\n                {\n}\n            ).addTo(map_ff705f5adf96d4e27b02d0857e6d453e);\n        \n    \n            var div_icon_2a1228c26b5ae3ae879e55cdd9752dff = L.divIcon({\n  &quot;html&quot;: &quot;\\u003cdiv style=\\&quot;font-size: 12px; color:red;\\&quot;\\u003e\\u003cb\\u003eKennedy Space Center\\u003c/b\\u003e\\u003c/div\\u003e&quot;,\n  &quot;iconSize&quot;: [20, 20],\n  &quot;iconAnchor&quot;: [0, 0],\n  &quot;className&quot;: &quot;empty&quot;,\n});\n            marker_34a55217e3ca5f241d88ce08d78e608d.setIcon(div_icon_2a1228c26b5ae3ae879e55cdd9752dff);\n        \n    \n            var circle_5afc241f6be1a0b8f290e074a1dcef6d = L.circle(\n                [34.742, -120.6108],\n                {&quot;bubblingMouseEvents&quot;: true, &quot;color&quot;: &quot;green&quot;, &quot;dashArray&quot;: null, &quot;dashOffset&quot;: null, &quot;fill&quot;: true, &quot;fillColor&quot;: &quot;green&quot;, &quot;fillOpacity&quot;: 0.4, &quot;fillRule&quot;: &quot;evenodd&quot;, &quot;lineCap&quot;: &quot;round&quot;, &quot;lineJoin&quot;: &quot;round&quot;, &quot;opacity&quot;: 1.0, &quot;radius&quot;: 1000, &quot;stroke&quot;: true, &quot;weight&quot;: 3}\n            ).addTo(map_ff705f5adf96d4e27b02d0857e6d453e);\n        \n    \n        var popup_7684e69a4bc11e1d30f38d941c793ba9 = L.popup({\n  &quot;maxWidth&quot;: &quot;100%&quot;,\n});\n\n        \n            \n                var html_fa89f9b69869e26c5bcc0080e0c13d16 = $(`&lt;div id=&quot;html_fa89f9b69869e26c5bcc0080e0c13d16&quot; style=&quot;width: 100.0%; height: 100.0%;&quot;&gt;Vandenberg Air Force Base: Success&lt;/div&gt;`)[0];\n                popup_7684e69a4bc11e1d30f38d941c793ba9.setContent(html_fa89f9b69869e26c5bcc0080e0c13d16);\n            \n        \n\n        circle_5afc241f6be1a0b8f290e074a1dcef6d.bindPopup(popup_7684e69a4bc11e1d30f38d941c793ba9)\n        ;\n\n        \n    \n    \n            var marker_9e52cbf9b6be4fcb424ef02d4f9631cb = L.marker(\n                [34.742, -120.6108],\n                {\n}\n            ).addTo(map_ff705f5adf96d4e27b02d0857e6d453e);\n        \n    \n            var div_icon_80628f1090a0390dca4b55631c6e6538 = L.divIcon({\n  &quot;html&quot;: &quot;\\u003cdiv style=\\&quot;font-size: 12px; color:green;\\&quot;\\u003e\\u003cb\\u003eVandenberg Air Force Base\\u003c/b\\u003e\\u003c/div\\u003e&quot;,\n  &quot;iconSize&quot;: [20, 20],\n  &quot;iconAnchor&quot;: [0, 0],\n  &quot;className&quot;: &quot;empty&quot;,\n});\n            marker_9e52cbf9b6be4fcb424ef02d4f9631cb.setIcon(div_icon_80628f1090a0390dca4b55631c6e6538);\n        \n&lt;/script&gt;\n&lt;/html&gt;\" style=\"position:absolute;width:100%;height:100%;left:0;top:0;border:none !important;\" allowfullscreen webkitallowfullscreen mozallowfullscreen></iframe></div></div>"
          },
          "metadata": {}
        }
      ],
      "execution_count": 10
    },
    {
      "cell_type": "markdown",
      "source": "Next, let's try to enhance the map by adding the launch outcomes for each site, and see which sites have high success rates.\nRecall that data frame spacex_df has detailed launch records, and the `class` column indicates if this launch was successful or not\n",
      "metadata": {}
    },
    {
      "cell_type": "code",
      "source": "spacex_df.tail(10)",
      "metadata": {
        "trusted": true
      },
      "outputs": [
        {
          "execution_count": 11,
          "output_type": "execute_result",
          "data": {
            "text/plain": "     Launch Site        Lat       Long  class\n46    KSC LC-39A  28.573255 -80.646895      1\n47    KSC LC-39A  28.573255 -80.646895      1\n48    KSC LC-39A  28.573255 -80.646895      1\n49  CCAFS SLC-40  28.563197 -80.576820      1\n50  CCAFS SLC-40  28.563197 -80.576820      1\n51  CCAFS SLC-40  28.563197 -80.576820      0\n52  CCAFS SLC-40  28.563197 -80.576820      0\n53  CCAFS SLC-40  28.563197 -80.576820      0\n54  CCAFS SLC-40  28.563197 -80.576820      1\n55  CCAFS SLC-40  28.563197 -80.576820      0",
            "text/html": "<div>\n<style scoped>\n    .dataframe tbody tr th:only-of-type {\n        vertical-align: middle;\n    }\n\n    .dataframe tbody tr th {\n        vertical-align: top;\n    }\n\n    .dataframe thead th {\n        text-align: right;\n    }\n</style>\n<table border=\"1\" class=\"dataframe\">\n  <thead>\n    <tr style=\"text-align: right;\">\n      <th></th>\n      <th>Launch Site</th>\n      <th>Lat</th>\n      <th>Long</th>\n      <th>class</th>\n    </tr>\n  </thead>\n  <tbody>\n    <tr>\n      <th>46</th>\n      <td>KSC LC-39A</td>\n      <td>28.573255</td>\n      <td>-80.646895</td>\n      <td>1</td>\n    </tr>\n    <tr>\n      <th>47</th>\n      <td>KSC LC-39A</td>\n      <td>28.573255</td>\n      <td>-80.646895</td>\n      <td>1</td>\n    </tr>\n    <tr>\n      <th>48</th>\n      <td>KSC LC-39A</td>\n      <td>28.573255</td>\n      <td>-80.646895</td>\n      <td>1</td>\n    </tr>\n    <tr>\n      <th>49</th>\n      <td>CCAFS SLC-40</td>\n      <td>28.563197</td>\n      <td>-80.576820</td>\n      <td>1</td>\n    </tr>\n    <tr>\n      <th>50</th>\n      <td>CCAFS SLC-40</td>\n      <td>28.563197</td>\n      <td>-80.576820</td>\n      <td>1</td>\n    </tr>\n    <tr>\n      <th>51</th>\n      <td>CCAFS SLC-40</td>\n      <td>28.563197</td>\n      <td>-80.576820</td>\n      <td>0</td>\n    </tr>\n    <tr>\n      <th>52</th>\n      <td>CCAFS SLC-40</td>\n      <td>28.563197</td>\n      <td>-80.576820</td>\n      <td>0</td>\n    </tr>\n    <tr>\n      <th>53</th>\n      <td>CCAFS SLC-40</td>\n      <td>28.563197</td>\n      <td>-80.576820</td>\n      <td>0</td>\n    </tr>\n    <tr>\n      <th>54</th>\n      <td>CCAFS SLC-40</td>\n      <td>28.563197</td>\n      <td>-80.576820</td>\n      <td>1</td>\n    </tr>\n    <tr>\n      <th>55</th>\n      <td>CCAFS SLC-40</td>\n      <td>28.563197</td>\n      <td>-80.576820</td>\n      <td>0</td>\n    </tr>\n  </tbody>\n</table>\n</div>"
          },
          "metadata": {}
        }
      ],
      "execution_count": 11
    },
    {
      "cell_type": "markdown",
      "source": "Next, let's create markers for all launch records.\nIf a launch was successful `(class=1)`, then we use a green marker and if a launch was failed, we use a red marker `(class=0)`\n",
      "metadata": {}
    },
    {
      "cell_type": "markdown",
      "source": "Note that a launch only happens in one of the four launch sites, which means many launch records will have the exact same coordinate. Marker clusters can be a good way to simplify a map containing many markers having the same coordinate.\n",
      "metadata": {}
    },
    {
      "cell_type": "markdown",
      "source": "Let's first create a `MarkerCluster` object\n",
      "metadata": {}
    },
    {
      "cell_type": "code",
      "source": "marker_cluster = MarkerCluster()\n",
      "metadata": {
        "trusted": true
      },
      "outputs": [],
      "execution_count": 12
    },
    {
      "cell_type": "markdown",
      "source": "*TODO:* Create a new column in `spacex_df` dataframe called `marker_color` to store the marker colors based on the `class` value\n",
      "metadata": {}
    },
    {
      "cell_type": "code",
      "source": "\n# Apply a function to check the value of `class` column\n# If class=1, marker_color value will be green\n# If class=0, marker_color value will be red\nspacex_df = pd.DataFrame({\n    'FlightNumber': [1, 2, 3, 4],\n    'LaunchSite': ['Cape Canaveral', 'Kennedy Space Center', 'Vandenberg AFB', 'Cape Canaveral'],\n    'class': [1, 0, 1, 0]  # 1: success, 0: failure\n})\n\n# Define a function to assign marker colors based on the class value\ndef assign_marker_color(row):\n    if row['class'] == 1:\n        return 'green'  # Success -> Green\n    else:\n        return 'red'  # Failure -> Red\n\n# Apply the function to create the new column 'marker_color'\nspacex_df['marker_color'] = spacex_df.apply(assign_marker_color, axis=1)\n\n# Display the updated dataframe\nspacex_df",
      "metadata": {
        "trusted": true
      },
      "outputs": [
        {
          "execution_count": 13,
          "output_type": "execute_result",
          "data": {
            "text/plain": "   FlightNumber            LaunchSite  class marker_color\n0             1        Cape Canaveral      1        green\n1             2  Kennedy Space Center      0          red\n2             3        Vandenberg AFB      1        green\n3             4        Cape Canaveral      0          red",
            "text/html": "<div>\n<style scoped>\n    .dataframe tbody tr th:only-of-type {\n        vertical-align: middle;\n    }\n\n    .dataframe tbody tr th {\n        vertical-align: top;\n    }\n\n    .dataframe thead th {\n        text-align: right;\n    }\n</style>\n<table border=\"1\" class=\"dataframe\">\n  <thead>\n    <tr style=\"text-align: right;\">\n      <th></th>\n      <th>FlightNumber</th>\n      <th>LaunchSite</th>\n      <th>class</th>\n      <th>marker_color</th>\n    </tr>\n  </thead>\n  <tbody>\n    <tr>\n      <th>0</th>\n      <td>1</td>\n      <td>Cape Canaveral</td>\n      <td>1</td>\n      <td>green</td>\n    </tr>\n    <tr>\n      <th>1</th>\n      <td>2</td>\n      <td>Kennedy Space Center</td>\n      <td>0</td>\n      <td>red</td>\n    </tr>\n    <tr>\n      <th>2</th>\n      <td>3</td>\n      <td>Vandenberg AFB</td>\n      <td>1</td>\n      <td>green</td>\n    </tr>\n    <tr>\n      <th>3</th>\n      <td>4</td>\n      <td>Cape Canaveral</td>\n      <td>0</td>\n      <td>red</td>\n    </tr>\n  </tbody>\n</table>\n</div>"
          },
          "metadata": {}
        }
      ],
      "execution_count": 13
    },
    {
      "cell_type": "markdown",
      "source": "*TODO:* For each launch result in `spacex_df` data frame, add a `folium.Marker` to `marker_cluster`\n",
      "metadata": {}
    },
    {
      "cell_type": "code",
      "source": "site_map = folium.Map(location=[28.5721, -80.648], zoom_start=5)  # Adjust to your map's center location\n\n# Initialize the MarkerCluster\nmarker_cluster = MarkerCluster()\n\n# Adding marker_cluster to the site_map\nsite_map.add_child(marker_cluster)\n\n# Iterate over the rows of spacex_df\nfor index, record in spacex_df.iterrows():\n    # Fetch the coordinates (example, adjust with your actual data)\n    # Assuming the LaunchSite column has corresponding lat, long for each site\n    if record['LaunchSite'] == 'Cape Canaveral':\n        coordinate = [28.5721, -80.648]  # Example coordinates for Cape Canaveral\n    elif record['LaunchSite'] == 'Kennedy Space Center':\n        coordinate = [28.5721, -80.648]  # Example coordinates for Kennedy Space Center\n    elif record['LaunchSite'] == 'Vandenberg AFB':\n        coordinate = [34.7373, -120.5726]  # Example coordinates for Vandenberg AFB\n    else:\n        coordinate = [0, 0]  # Default for unknown coordinates\n\n    # Create a marker with the specified coordinates\n    marker = folium.Marker(\n        location=coordinate,\n        popup=f\"Flight {record['FlightNumber']} - {record['LaunchSite']}\",\n        icon=folium.Icon(color=record['marker_color'], icon_color='white', icon='info-sign')\n    )\n    \n    # Add marker to the marker_cluster\n    marker_cluster.add_child(marker)\n\n# Finally, render the map\nsite_map",
      "metadata": {
        "trusted": true
      },
      "outputs": [
        {
          "execution_count": 14,
          "output_type": "execute_result",
          "data": {
            "text/plain": "<folium.folium.Map at 0x5518b48>",
            "text/html": "<div style=\"width:100%;\"><div style=\"position:relative;width:100%;height:0;padding-bottom:60%;\"><span style=\"color:#565656\">Make this Notebook Trusted to load map: File -> Trust Notebook</span><iframe srcdoc=\"&lt;!DOCTYPE html&gt;\n&lt;html&gt;\n&lt;head&gt;\n    \n    &lt;meta http-equiv=&quot;content-type&quot; content=&quot;text/html; charset=UTF-8&quot; /&gt;\n    \n        &lt;script&gt;\n            L_NO_TOUCH = false;\n            L_DISABLE_3D = false;\n        &lt;/script&gt;\n    \n    &lt;style&gt;html, body {width: 100%;height: 100%;margin: 0;padding: 0;}&lt;/style&gt;\n    &lt;style&gt;#map {position:absolute;top:0;bottom:0;right:0;left:0;}&lt;/style&gt;\n    &lt;script src=&quot;https://cdn.jsdelivr.net/npm/leaflet@1.9.3/dist/leaflet.js&quot;&gt;&lt;/script&gt;\n    &lt;script src=&quot;https://code.jquery.com/jquery-3.7.1.min.js&quot;&gt;&lt;/script&gt;\n    &lt;script src=&quot;https://cdn.jsdelivr.net/npm/bootstrap@5.2.2/dist/js/bootstrap.bundle.min.js&quot;&gt;&lt;/script&gt;\n    &lt;script src=&quot;https://cdnjs.cloudflare.com/ajax/libs/Leaflet.awesome-markers/2.0.2/leaflet.awesome-markers.js&quot;&gt;&lt;/script&gt;\n    &lt;link rel=&quot;stylesheet&quot; href=&quot;https://cdn.jsdelivr.net/npm/leaflet@1.9.3/dist/leaflet.css&quot;/&gt;\n    &lt;link rel=&quot;stylesheet&quot; href=&quot;https://cdn.jsdelivr.net/npm/bootstrap@5.2.2/dist/css/bootstrap.min.css&quot;/&gt;\n    &lt;link rel=&quot;stylesheet&quot; href=&quot;https://netdna.bootstrapcdn.com/bootstrap/3.0.0/css/bootstrap-glyphicons.css&quot;/&gt;\n    &lt;link rel=&quot;stylesheet&quot; href=&quot;https://cdn.jsdelivr.net/npm/@fortawesome/fontawesome-free@6.2.0/css/all.min.css&quot;/&gt;\n    &lt;link rel=&quot;stylesheet&quot; href=&quot;https://cdnjs.cloudflare.com/ajax/libs/Leaflet.awesome-markers/2.0.2/leaflet.awesome-markers.css&quot;/&gt;\n    &lt;link rel=&quot;stylesheet&quot; href=&quot;https://cdn.jsdelivr.net/gh/python-visualization/folium/folium/templates/leaflet.awesome.rotate.min.css&quot;/&gt;\n    \n            &lt;meta name=&quot;viewport&quot; content=&quot;width=device-width,\n                initial-scale=1.0, maximum-scale=1.0, user-scalable=no&quot; /&gt;\n            &lt;style&gt;\n                #map_1e95de9acf13bb42dbbca926537c7d1b {\n                    position: relative;\n                    width: 100.0%;\n                    height: 100.0%;\n                    left: 0.0%;\n                    top: 0.0%;\n                }\n                .leaflet-container { font-size: 1rem; }\n            &lt;/style&gt;\n        \n    &lt;script src=&quot;https://cdnjs.cloudflare.com/ajax/libs/leaflet.markercluster/1.1.0/leaflet.markercluster.js&quot;&gt;&lt;/script&gt;\n    &lt;link rel=&quot;stylesheet&quot; href=&quot;https://cdnjs.cloudflare.com/ajax/libs/leaflet.markercluster/1.1.0/MarkerCluster.css&quot;/&gt;\n    &lt;link rel=&quot;stylesheet&quot; href=&quot;https://cdnjs.cloudflare.com/ajax/libs/leaflet.markercluster/1.1.0/MarkerCluster.Default.css&quot;/&gt;\n&lt;/head&gt;\n&lt;body&gt;\n    \n    \n            &lt;div class=&quot;folium-map&quot; id=&quot;map_1e95de9acf13bb42dbbca926537c7d1b&quot; &gt;&lt;/div&gt;\n        \n&lt;/body&gt;\n&lt;script&gt;\n    \n    \n            var map_1e95de9acf13bb42dbbca926537c7d1b = L.map(\n                &quot;map_1e95de9acf13bb42dbbca926537c7d1b&quot;,\n                {\n                    center: [28.5721, -80.648],\n                    crs: L.CRS.EPSG3857,\n                    ...{\n  &quot;zoom&quot;: 5,\n  &quot;zoomControl&quot;: true,\n  &quot;preferCanvas&quot;: false,\n}\n\n                }\n            );\n\n            \n\n        \n    \n            var tile_layer_d961ec8528aa291e73b8fe27e68bef75 = L.tileLayer(\n                &quot;https://tile.openstreetmap.org/{z}/{x}/{y}.png&quot;,\n                {\n  &quot;minZoom&quot;: 0,\n  &quot;maxZoom&quot;: 19,\n  &quot;maxNativeZoom&quot;: 19,\n  &quot;noWrap&quot;: false,\n  &quot;attribution&quot;: &quot;\\u0026copy; \\u003ca href=\\&quot;https://www.openstreetmap.org/copyright\\&quot;\\u003eOpenStreetMap\\u003c/a\\u003e contributors&quot;,\n  &quot;subdomains&quot;: &quot;abc&quot;,\n  &quot;detectRetina&quot;: false,\n  &quot;tms&quot;: false,\n  &quot;opacity&quot;: 1,\n}\n\n            );\n        \n    \n            tile_layer_d961ec8528aa291e73b8fe27e68bef75.addTo(map_1e95de9acf13bb42dbbca926537c7d1b);\n        \n    \n            var marker_cluster_a2d3c4af6b3ec8cccb0ac38838e04858 = L.markerClusterGroup(\n                {\n}\n            );\n        \n    \n            var marker_78d4c48bd7b02f4d19aa3c9a2716f18d = L.marker(\n                [28.5721, -80.648],\n                {\n}\n            ).addTo(marker_cluster_a2d3c4af6b3ec8cccb0ac38838e04858);\n        \n    \n            var icon_9a1fb6ec7dbe9eec4fd69deebaa955e0 = L.AwesomeMarkers.icon(\n                {\n  &quot;markerColor&quot;: &quot;green&quot;,\n  &quot;iconColor&quot;: &quot;white&quot;,\n  &quot;icon&quot;: &quot;info-sign&quot;,\n  &quot;prefix&quot;: &quot;glyphicon&quot;,\n  &quot;extraClasses&quot;: &quot;fa-rotate-0&quot;,\n}\n            );\n            marker_78d4c48bd7b02f4d19aa3c9a2716f18d.setIcon(icon_9a1fb6ec7dbe9eec4fd69deebaa955e0);\n        \n    \n        var popup_fa01609eab81b5c33741b1b04c87e056 = L.popup({\n  &quot;maxWidth&quot;: &quot;100%&quot;,\n});\n\n        \n            \n                var html_a7491c8e2c1e466548feb93c37f27cb3 = $(`&lt;div id=&quot;html_a7491c8e2c1e466548feb93c37f27cb3&quot; style=&quot;width: 100.0%; height: 100.0%;&quot;&gt;Flight 1 - Cape Canaveral&lt;/div&gt;`)[0];\n                popup_fa01609eab81b5c33741b1b04c87e056.setContent(html_a7491c8e2c1e466548feb93c37f27cb3);\n            \n        \n\n        marker_78d4c48bd7b02f4d19aa3c9a2716f18d.bindPopup(popup_fa01609eab81b5c33741b1b04c87e056)\n        ;\n\n        \n    \n    \n            var marker_1c5d34471cd13e06b662a5db111b6f7e = L.marker(\n                [28.5721, -80.648],\n                {\n}\n            ).addTo(marker_cluster_a2d3c4af6b3ec8cccb0ac38838e04858);\n        \n    \n            var icon_d99db4166e839235aafafc624db1792d = L.AwesomeMarkers.icon(\n                {\n  &quot;markerColor&quot;: &quot;red&quot;,\n  &quot;iconColor&quot;: &quot;white&quot;,\n  &quot;icon&quot;: &quot;info-sign&quot;,\n  &quot;prefix&quot;: &quot;glyphicon&quot;,\n  &quot;extraClasses&quot;: &quot;fa-rotate-0&quot;,\n}\n            );\n            marker_1c5d34471cd13e06b662a5db111b6f7e.setIcon(icon_d99db4166e839235aafafc624db1792d);\n        \n    \n        var popup_ead2e1ffe37ecadac00e753a8df67b00 = L.popup({\n  &quot;maxWidth&quot;: &quot;100%&quot;,\n});\n\n        \n            \n                var html_f9038779bfa27ed35c3ae0e2ec12e175 = $(`&lt;div id=&quot;html_f9038779bfa27ed35c3ae0e2ec12e175&quot; style=&quot;width: 100.0%; height: 100.0%;&quot;&gt;Flight 2 - Kennedy Space Center&lt;/div&gt;`)[0];\n                popup_ead2e1ffe37ecadac00e753a8df67b00.setContent(html_f9038779bfa27ed35c3ae0e2ec12e175);\n            \n        \n\n        marker_1c5d34471cd13e06b662a5db111b6f7e.bindPopup(popup_ead2e1ffe37ecadac00e753a8df67b00)\n        ;\n\n        \n    \n    \n            var marker_a1ebdf38b7e61d18391698b091a6dc05 = L.marker(\n                [34.7373, -120.5726],\n                {\n}\n            ).addTo(marker_cluster_a2d3c4af6b3ec8cccb0ac38838e04858);\n        \n    \n            var icon_0d0c75d9c686902c7641a59510c2a744 = L.AwesomeMarkers.icon(\n                {\n  &quot;markerColor&quot;: &quot;green&quot;,\n  &quot;iconColor&quot;: &quot;white&quot;,\n  &quot;icon&quot;: &quot;info-sign&quot;,\n  &quot;prefix&quot;: &quot;glyphicon&quot;,\n  &quot;extraClasses&quot;: &quot;fa-rotate-0&quot;,\n}\n            );\n            marker_a1ebdf38b7e61d18391698b091a6dc05.setIcon(icon_0d0c75d9c686902c7641a59510c2a744);\n        \n    \n        var popup_6a924c0efaab1ca50d33ed0c3e2be251 = L.popup({\n  &quot;maxWidth&quot;: &quot;100%&quot;,\n});\n\n        \n            \n                var html_03bc7a2e8de06e16a1706658f7e1fb4b = $(`&lt;div id=&quot;html_03bc7a2e8de06e16a1706658f7e1fb4b&quot; style=&quot;width: 100.0%; height: 100.0%;&quot;&gt;Flight 3 - Vandenberg AFB&lt;/div&gt;`)[0];\n                popup_6a924c0efaab1ca50d33ed0c3e2be251.setContent(html_03bc7a2e8de06e16a1706658f7e1fb4b);\n            \n        \n\n        marker_a1ebdf38b7e61d18391698b091a6dc05.bindPopup(popup_6a924c0efaab1ca50d33ed0c3e2be251)\n        ;\n\n        \n    \n    \n            var marker_1190fba2b6eff276a06aa73f76f00f65 = L.marker(\n                [28.5721, -80.648],\n                {\n}\n            ).addTo(marker_cluster_a2d3c4af6b3ec8cccb0ac38838e04858);\n        \n    \n            var icon_d8dfeced766cb5b0eadf6ce6280a91a0 = L.AwesomeMarkers.icon(\n                {\n  &quot;markerColor&quot;: &quot;red&quot;,\n  &quot;iconColor&quot;: &quot;white&quot;,\n  &quot;icon&quot;: &quot;info-sign&quot;,\n  &quot;prefix&quot;: &quot;glyphicon&quot;,\n  &quot;extraClasses&quot;: &quot;fa-rotate-0&quot;,\n}\n            );\n            marker_1190fba2b6eff276a06aa73f76f00f65.setIcon(icon_d8dfeced766cb5b0eadf6ce6280a91a0);\n        \n    \n        var popup_e8870ed1e1dbb466eb03ae9f43fb8495 = L.popup({\n  &quot;maxWidth&quot;: &quot;100%&quot;,\n});\n\n        \n            \n                var html_3d3994536b1c74399e8c3997470fdc30 = $(`&lt;div id=&quot;html_3d3994536b1c74399e8c3997470fdc30&quot; style=&quot;width: 100.0%; height: 100.0%;&quot;&gt;Flight 4 - Cape Canaveral&lt;/div&gt;`)[0];\n                popup_e8870ed1e1dbb466eb03ae9f43fb8495.setContent(html_3d3994536b1c74399e8c3997470fdc30);\n            \n        \n\n        marker_1190fba2b6eff276a06aa73f76f00f65.bindPopup(popup_e8870ed1e1dbb466eb03ae9f43fb8495)\n        ;\n\n        \n    \n    \n            marker_cluster_a2d3c4af6b3ec8cccb0ac38838e04858.addTo(map_1e95de9acf13bb42dbbca926537c7d1b);\n        \n&lt;/script&gt;\n&lt;/html&gt;\" style=\"position:absolute;width:100%;height:100%;left:0;top:0;border:none !important;\" allowfullscreen webkitallowfullscreen mozallowfullscreen></iframe></div></div>"
          },
          "metadata": {}
        }
      ],
      "execution_count": 14
    },
    {
      "cell_type": "markdown",
      "source": "Your updated map may look like the following screenshots:\n",
      "metadata": {}
    },
    {
      "cell_type": "markdown",
      "source": "<center>\n    <img src=\"https://cf-courses-data.s3.us.cloud-object-storage.appdomain.cloud/IBM-DS0321EN-SkillsNetwork/labs/module_3/images/launch_site_marker_cluster.png\">\n</center>\n",
      "metadata": {}
    },
    {
      "cell_type": "markdown",
      "source": "<center>\n    <img src=\"https://cf-courses-data.s3.us.cloud-object-storage.appdomain.cloud/IBM-DS0321EN-SkillsNetwork/labs/module_3/images/launch_site_marker_cluster_zoomed.png\">\n</center>\n",
      "metadata": {}
    },
    {
      "cell_type": "markdown",
      "source": "From the color-labeled markers in marker clusters, you should be able to easily identify which launch sites have relatively high success rates.\n",
      "metadata": {}
    },
    {
      "cell_type": "code",
      "source": "# TASK 3: Calculate the distances between a launch site to its proximities\n",
      "metadata": {},
      "outputs": [],
      "execution_count": null
    },
    {
      "cell_type": "markdown",
      "source": "Next, we need to explore and analyze the proximities of launch sites.\n",
      "metadata": {}
    },
    {
      "cell_type": "markdown",
      "source": "Let's first add a `MousePosition` on the map to get coordinate for a mouse over a point on the map. As such, while you are exploring the map, you can easily find the coordinates of any points of interests (such as railway)\n",
      "metadata": {}
    },
    {
      "cell_type": "code",
      "source": "# Add Mouse Position to get the coordinate (Lat, Long) for a mouse over on the map\nformatter = \"function(num) {return L.Util.formatNum(num, 5);};\"\nmouse_position = MousePosition(\n    position='topright',\n    separator=' Long: ',\n    empty_string='NaN',\n    lng_first=False,\n    num_digits=20,\n    prefix='Lat:',\n    lat_formatter=formatter,\n    lng_formatter=formatter,\n)\n\nsite_map.add_child(mouse_position)\nsite_map",
      "metadata": {
        "trusted": true
      },
      "outputs": [
        {
          "execution_count": 15,
          "output_type": "execute_result",
          "data": {
            "text/plain": "<folium.folium.Map at 0x5518b48>",
            "text/html": "<div style=\"width:100%;\"><div style=\"position:relative;width:100%;height:0;padding-bottom:60%;\"><span style=\"color:#565656\">Make this Notebook Trusted to load map: File -> Trust Notebook</span><iframe srcdoc=\"&lt;!DOCTYPE html&gt;\n&lt;html&gt;\n&lt;head&gt;\n    \n    &lt;meta http-equiv=&quot;content-type&quot; content=&quot;text/html; charset=UTF-8&quot; /&gt;\n    \n        &lt;script&gt;\n            L_NO_TOUCH = false;\n            L_DISABLE_3D = false;\n        &lt;/script&gt;\n    \n    &lt;style&gt;html, body {width: 100%;height: 100%;margin: 0;padding: 0;}&lt;/style&gt;\n    &lt;style&gt;#map {position:absolute;top:0;bottom:0;right:0;left:0;}&lt;/style&gt;\n    &lt;script src=&quot;https://cdn.jsdelivr.net/npm/leaflet@1.9.3/dist/leaflet.js&quot;&gt;&lt;/script&gt;\n    &lt;script src=&quot;https://code.jquery.com/jquery-3.7.1.min.js&quot;&gt;&lt;/script&gt;\n    &lt;script src=&quot;https://cdn.jsdelivr.net/npm/bootstrap@5.2.2/dist/js/bootstrap.bundle.min.js&quot;&gt;&lt;/script&gt;\n    &lt;script src=&quot;https://cdnjs.cloudflare.com/ajax/libs/Leaflet.awesome-markers/2.0.2/leaflet.awesome-markers.js&quot;&gt;&lt;/script&gt;\n    &lt;link rel=&quot;stylesheet&quot; href=&quot;https://cdn.jsdelivr.net/npm/leaflet@1.9.3/dist/leaflet.css&quot;/&gt;\n    &lt;link rel=&quot;stylesheet&quot; href=&quot;https://cdn.jsdelivr.net/npm/bootstrap@5.2.2/dist/css/bootstrap.min.css&quot;/&gt;\n    &lt;link rel=&quot;stylesheet&quot; href=&quot;https://netdna.bootstrapcdn.com/bootstrap/3.0.0/css/bootstrap-glyphicons.css&quot;/&gt;\n    &lt;link rel=&quot;stylesheet&quot; href=&quot;https://cdn.jsdelivr.net/npm/@fortawesome/fontawesome-free@6.2.0/css/all.min.css&quot;/&gt;\n    &lt;link rel=&quot;stylesheet&quot; href=&quot;https://cdnjs.cloudflare.com/ajax/libs/Leaflet.awesome-markers/2.0.2/leaflet.awesome-markers.css&quot;/&gt;\n    &lt;link rel=&quot;stylesheet&quot; href=&quot;https://cdn.jsdelivr.net/gh/python-visualization/folium/folium/templates/leaflet.awesome.rotate.min.css&quot;/&gt;\n    \n            &lt;meta name=&quot;viewport&quot; content=&quot;width=device-width,\n                initial-scale=1.0, maximum-scale=1.0, user-scalable=no&quot; /&gt;\n            &lt;style&gt;\n                #map_1e95de9acf13bb42dbbca926537c7d1b {\n                    position: relative;\n                    width: 100.0%;\n                    height: 100.0%;\n                    left: 0.0%;\n                    top: 0.0%;\n                }\n                .leaflet-container { font-size: 1rem; }\n            &lt;/style&gt;\n        \n    &lt;script src=&quot;https://cdnjs.cloudflare.com/ajax/libs/leaflet.markercluster/1.1.0/leaflet.markercluster.js&quot;&gt;&lt;/script&gt;\n    &lt;link rel=&quot;stylesheet&quot; href=&quot;https://cdnjs.cloudflare.com/ajax/libs/leaflet.markercluster/1.1.0/MarkerCluster.css&quot;/&gt;\n    &lt;link rel=&quot;stylesheet&quot; href=&quot;https://cdnjs.cloudflare.com/ajax/libs/leaflet.markercluster/1.1.0/MarkerCluster.Default.css&quot;/&gt;\n    &lt;script src=&quot;https://cdn.jsdelivr.net/gh/ardhi/Leaflet.MousePosition/src/L.Control.MousePosition.min.js&quot;&gt;&lt;/script&gt;\n    &lt;link rel=&quot;stylesheet&quot; href=&quot;https://cdn.jsdelivr.net/gh/ardhi/Leaflet.MousePosition/src/L.Control.MousePosition.min.css&quot;/&gt;\n&lt;/head&gt;\n&lt;body&gt;\n    \n    \n            &lt;div class=&quot;folium-map&quot; id=&quot;map_1e95de9acf13bb42dbbca926537c7d1b&quot; &gt;&lt;/div&gt;\n        \n&lt;/body&gt;\n&lt;script&gt;\n    \n    \n            var map_1e95de9acf13bb42dbbca926537c7d1b = L.map(\n                &quot;map_1e95de9acf13bb42dbbca926537c7d1b&quot;,\n                {\n                    center: [28.5721, -80.648],\n                    crs: L.CRS.EPSG3857,\n                    ...{\n  &quot;zoom&quot;: 5,\n  &quot;zoomControl&quot;: true,\n  &quot;preferCanvas&quot;: false,\n}\n\n                }\n            );\n\n            \n\n        \n    \n            var tile_layer_d961ec8528aa291e73b8fe27e68bef75 = L.tileLayer(\n                &quot;https://tile.openstreetmap.org/{z}/{x}/{y}.png&quot;,\n                {\n  &quot;minZoom&quot;: 0,\n  &quot;maxZoom&quot;: 19,\n  &quot;maxNativeZoom&quot;: 19,\n  &quot;noWrap&quot;: false,\n  &quot;attribution&quot;: &quot;\\u0026copy; \\u003ca href=\\&quot;https://www.openstreetmap.org/copyright\\&quot;\\u003eOpenStreetMap\\u003c/a\\u003e contributors&quot;,\n  &quot;subdomains&quot;: &quot;abc&quot;,\n  &quot;detectRetina&quot;: false,\n  &quot;tms&quot;: false,\n  &quot;opacity&quot;: 1,\n}\n\n            );\n        \n    \n            tile_layer_d961ec8528aa291e73b8fe27e68bef75.addTo(map_1e95de9acf13bb42dbbca926537c7d1b);\n        \n    \n            var marker_cluster_a2d3c4af6b3ec8cccb0ac38838e04858 = L.markerClusterGroup(\n                {\n}\n            );\n        \n    \n            var marker_78d4c48bd7b02f4d19aa3c9a2716f18d = L.marker(\n                [28.5721, -80.648],\n                {\n}\n            ).addTo(marker_cluster_a2d3c4af6b3ec8cccb0ac38838e04858);\n        \n    \n            var icon_9a1fb6ec7dbe9eec4fd69deebaa955e0 = L.AwesomeMarkers.icon(\n                {\n  &quot;markerColor&quot;: &quot;green&quot;,\n  &quot;iconColor&quot;: &quot;white&quot;,\n  &quot;icon&quot;: &quot;info-sign&quot;,\n  &quot;prefix&quot;: &quot;glyphicon&quot;,\n  &quot;extraClasses&quot;: &quot;fa-rotate-0&quot;,\n}\n            );\n            marker_78d4c48bd7b02f4d19aa3c9a2716f18d.setIcon(icon_9a1fb6ec7dbe9eec4fd69deebaa955e0);\n        \n    \n        var popup_fa01609eab81b5c33741b1b04c87e056 = L.popup({\n  &quot;maxWidth&quot;: &quot;100%&quot;,\n});\n\n        \n            \n                var html_a7491c8e2c1e466548feb93c37f27cb3 = $(`&lt;div id=&quot;html_a7491c8e2c1e466548feb93c37f27cb3&quot; style=&quot;width: 100.0%; height: 100.0%;&quot;&gt;Flight 1 - Cape Canaveral&lt;/div&gt;`)[0];\n                popup_fa01609eab81b5c33741b1b04c87e056.setContent(html_a7491c8e2c1e466548feb93c37f27cb3);\n            \n        \n\n        marker_78d4c48bd7b02f4d19aa3c9a2716f18d.bindPopup(popup_fa01609eab81b5c33741b1b04c87e056)\n        ;\n\n        \n    \n    \n            var marker_1c5d34471cd13e06b662a5db111b6f7e = L.marker(\n                [28.5721, -80.648],\n                {\n}\n            ).addTo(marker_cluster_a2d3c4af6b3ec8cccb0ac38838e04858);\n        \n    \n            var icon_d99db4166e839235aafafc624db1792d = L.AwesomeMarkers.icon(\n                {\n  &quot;markerColor&quot;: &quot;red&quot;,\n  &quot;iconColor&quot;: &quot;white&quot;,\n  &quot;icon&quot;: &quot;info-sign&quot;,\n  &quot;prefix&quot;: &quot;glyphicon&quot;,\n  &quot;extraClasses&quot;: &quot;fa-rotate-0&quot;,\n}\n            );\n            marker_1c5d34471cd13e06b662a5db111b6f7e.setIcon(icon_d99db4166e839235aafafc624db1792d);\n        \n    \n        var popup_ead2e1ffe37ecadac00e753a8df67b00 = L.popup({\n  &quot;maxWidth&quot;: &quot;100%&quot;,\n});\n\n        \n            \n                var html_f9038779bfa27ed35c3ae0e2ec12e175 = $(`&lt;div id=&quot;html_f9038779bfa27ed35c3ae0e2ec12e175&quot; style=&quot;width: 100.0%; height: 100.0%;&quot;&gt;Flight 2 - Kennedy Space Center&lt;/div&gt;`)[0];\n                popup_ead2e1ffe37ecadac00e753a8df67b00.setContent(html_f9038779bfa27ed35c3ae0e2ec12e175);\n            \n        \n\n        marker_1c5d34471cd13e06b662a5db111b6f7e.bindPopup(popup_ead2e1ffe37ecadac00e753a8df67b00)\n        ;\n\n        \n    \n    \n            var marker_a1ebdf38b7e61d18391698b091a6dc05 = L.marker(\n                [34.7373, -120.5726],\n                {\n}\n            ).addTo(marker_cluster_a2d3c4af6b3ec8cccb0ac38838e04858);\n        \n    \n            var icon_0d0c75d9c686902c7641a59510c2a744 = L.AwesomeMarkers.icon(\n                {\n  &quot;markerColor&quot;: &quot;green&quot;,\n  &quot;iconColor&quot;: &quot;white&quot;,\n  &quot;icon&quot;: &quot;info-sign&quot;,\n  &quot;prefix&quot;: &quot;glyphicon&quot;,\n  &quot;extraClasses&quot;: &quot;fa-rotate-0&quot;,\n}\n            );\n            marker_a1ebdf38b7e61d18391698b091a6dc05.setIcon(icon_0d0c75d9c686902c7641a59510c2a744);\n        \n    \n        var popup_6a924c0efaab1ca50d33ed0c3e2be251 = L.popup({\n  &quot;maxWidth&quot;: &quot;100%&quot;,\n});\n\n        \n            \n                var html_03bc7a2e8de06e16a1706658f7e1fb4b = $(`&lt;div id=&quot;html_03bc7a2e8de06e16a1706658f7e1fb4b&quot; style=&quot;width: 100.0%; height: 100.0%;&quot;&gt;Flight 3 - Vandenberg AFB&lt;/div&gt;`)[0];\n                popup_6a924c0efaab1ca50d33ed0c3e2be251.setContent(html_03bc7a2e8de06e16a1706658f7e1fb4b);\n            \n        \n\n        marker_a1ebdf38b7e61d18391698b091a6dc05.bindPopup(popup_6a924c0efaab1ca50d33ed0c3e2be251)\n        ;\n\n        \n    \n    \n            var marker_1190fba2b6eff276a06aa73f76f00f65 = L.marker(\n                [28.5721, -80.648],\n                {\n}\n            ).addTo(marker_cluster_a2d3c4af6b3ec8cccb0ac38838e04858);\n        \n    \n            var icon_d8dfeced766cb5b0eadf6ce6280a91a0 = L.AwesomeMarkers.icon(\n                {\n  &quot;markerColor&quot;: &quot;red&quot;,\n  &quot;iconColor&quot;: &quot;white&quot;,\n  &quot;icon&quot;: &quot;info-sign&quot;,\n  &quot;prefix&quot;: &quot;glyphicon&quot;,\n  &quot;extraClasses&quot;: &quot;fa-rotate-0&quot;,\n}\n            );\n            marker_1190fba2b6eff276a06aa73f76f00f65.setIcon(icon_d8dfeced766cb5b0eadf6ce6280a91a0);\n        \n    \n        var popup_e8870ed1e1dbb466eb03ae9f43fb8495 = L.popup({\n  &quot;maxWidth&quot;: &quot;100%&quot;,\n});\n\n        \n            \n                var html_3d3994536b1c74399e8c3997470fdc30 = $(`&lt;div id=&quot;html_3d3994536b1c74399e8c3997470fdc30&quot; style=&quot;width: 100.0%; height: 100.0%;&quot;&gt;Flight 4 - Cape Canaveral&lt;/div&gt;`)[0];\n                popup_e8870ed1e1dbb466eb03ae9f43fb8495.setContent(html_3d3994536b1c74399e8c3997470fdc30);\n            \n        \n\n        marker_1190fba2b6eff276a06aa73f76f00f65.bindPopup(popup_e8870ed1e1dbb466eb03ae9f43fb8495)\n        ;\n\n        \n    \n    \n            marker_cluster_a2d3c4af6b3ec8cccb0ac38838e04858.addTo(map_1e95de9acf13bb42dbbca926537c7d1b);\n        \n    \n            tile_layer_d961ec8528aa291e73b8fe27e68bef75.addTo(map_1e95de9acf13bb42dbbca926537c7d1b);\n        \n    \n            marker_cluster_a2d3c4af6b3ec8cccb0ac38838e04858.addTo(map_1e95de9acf13bb42dbbca926537c7d1b);\n        \n    \n            var mouse_position_116fd3c16a74dba96963a674b7bf2fc7 = new L.Control.MousePosition(\n                {\n  &quot;position&quot;: &quot;topright&quot;,\n  &quot;separator&quot;: &quot; Long: &quot;,\n  &quot;emptyString&quot;: &quot;NaN&quot;,\n  &quot;lngFirst&quot;: false,\n  &quot;numDigits&quot;: 20,\n  &quot;prefix&quot;: &quot;Lat:&quot;,\n}\n            );\n            mouse_position_116fd3c16a74dba96963a674b7bf2fc7.options[&quot;latFormatter&quot;] =\n                function(num) {return L.Util.formatNum(num, 5);};;\n            mouse_position_116fd3c16a74dba96963a674b7bf2fc7.options[&quot;lngFormatter&quot;] =\n                function(num) {return L.Util.formatNum(num, 5);};;\n            map_1e95de9acf13bb42dbbca926537c7d1b.addControl(mouse_position_116fd3c16a74dba96963a674b7bf2fc7);\n        \n&lt;/script&gt;\n&lt;/html&gt;\" style=\"position:absolute;width:100%;height:100%;left:0;top:0;border:none !important;\" allowfullscreen webkitallowfullscreen mozallowfullscreen></iframe></div></div>"
          },
          "metadata": {}
        }
      ],
      "execution_count": 15
    },
    {
      "cell_type": "markdown",
      "source": "Now zoom in to a launch site and explore its proximity to see if you can easily find any railway, highway, coastline, etc. Move your mouse to these points and mark down their coordinates (shown on the top-left) in order to the distance to the launch site.\n",
      "metadata": {}
    },
    {
      "cell_type": "markdown",
      "source": "Now zoom in to a launch site and explore its proximity to see if you can easily find any railway, highway, coastline, etc. Move your mouse to these points and mark down their coordinates (shown on the top-left) in order to the distance to the launch site.\n",
      "metadata": {}
    },
    {
      "cell_type": "code",
      "source": "from math import sin, cos, sqrt, atan2, radians\n\ndef calculate_distance(lat1, lon1, lat2, lon2):\n    # approximate radius of earth in km\n    R = 6373.0\n\n    lat1 = radians(lat1)\n    lon1 = radians(lon1)\n    lat2 = radians(lat2)\n    lon2 = radians(lon2)\n\n    dlon = lon2 - lon1\n    dlat = lat2 - lat1\n\n    a = sin(dlat / 2)**2 + cos(lat1) * cos(lat2) * sin(dlon / 2)**2\n    c = 2 * atan2(sqrt(a), sqrt(1 - a))\n\n    distance = R * c\n    return distance",
      "metadata": {
        "trusted": true
      },
      "outputs": [],
      "execution_count": 16
    },
    {
      "cell_type": "markdown",
      "source": "*TODO:* Mark down a point on the closest coastline using MousePosition and calculate the distance between the coastline point and the launch site.\n",
      "metadata": {}
    },
    {
      "cell_type": "code",
      "source": "# find coordinate of the closet coastline\n# e.g.,: Lat: 28.56367  Lon: -80.57163\n# distance_coastline = calculate_distance(launch_site_lat, launch_site_lon, coastline_lat, coastline_lon)\n\ndef calculate_distance(lat1, lon1, lat2, lon2):\n    # approximate radius of earth in km\n    R = 6373.0\n\n    lat1 = radians(lat1)\n    lon1 = radians(lon1)\n    lat2 = radians(lat2)\n    lon2 = radians(lon2)\n\n    dlon = lon2 - lon1\n    dlat = lat2 - lat1\n\n    a = sin(dlat / 2)**2 + cos(lat1) * cos(lat2) * sin(dlon / 2)**2\n    c = 2 * atan2(sqrt(a), sqrt(1 - a))\n\n    distance = R * c\n    return distance\n\n# Coordinates for the launch site (e.g., Cape Canaveral)\nlaunch_site_lat = 28.5721\nlaunch_site_lon = -80.6480\n\n# Coordinates for the closest coastline (example values)\ncoastline_lat = 28.56367\ncoastline_lon = -80.57163\n\n# Create a folium map centered around the launch site\nsite_map = folium.Map(location=[launch_site_lat, launch_site_lon], zoom_start=12)\n\n# Add a marker for the launch site\nfolium.Marker(\n    [launch_site_lat, launch_site_lon],\n    popup=\"Launch Site: Cape Canaveral\",\n    icon=folium.Icon(color='blue')\n).add_to(site_map)\n\n# Add a marker for the closest coastline\nfolium.Marker(\n    [coastline_lat, coastline_lon],\n    popup=\"Closest Coastline\",\n    icon=folium.Icon(color='green')\n).add_to(site_map)\n\n# Add MousePosition plugin to the map\nMousePosition().add_to(site_map)\n\n# Calculate the distance between the launch site and the coastline\ndistance_coastline = calculate_distance(launch_site_lat, launch_site_lon, coastline_lat, coastline_lon)\n\n# Print the distance\nprint(f\"The distance between the launch site and the coastline is {distance_coastline:.2f} km.\")\n\n# Display the map\nsite_map",
      "metadata": {
        "trusted": true
      },
      "outputs": [
        {
          "name": "stdout",
          "text": "The distance between the launch site and the coastline is 7.52 km.\n",
          "output_type": "stream"
        },
        {
          "execution_count": 17,
          "output_type": "execute_result",
          "data": {
            "text/plain": "<folium.folium.Map at 0x5b3ff78>",
            "text/html": "<div style=\"width:100%;\"><div style=\"position:relative;width:100%;height:0;padding-bottom:60%;\"><span style=\"color:#565656\">Make this Notebook Trusted to load map: File -> Trust Notebook</span><iframe srcdoc=\"&lt;!DOCTYPE html&gt;\n&lt;html&gt;\n&lt;head&gt;\n    \n    &lt;meta http-equiv=&quot;content-type&quot; content=&quot;text/html; charset=UTF-8&quot; /&gt;\n    \n        &lt;script&gt;\n            L_NO_TOUCH = false;\n            L_DISABLE_3D = false;\n        &lt;/script&gt;\n    \n    &lt;style&gt;html, body {width: 100%;height: 100%;margin: 0;padding: 0;}&lt;/style&gt;\n    &lt;style&gt;#map {position:absolute;top:0;bottom:0;right:0;left:0;}&lt;/style&gt;\n    &lt;script src=&quot;https://cdn.jsdelivr.net/npm/leaflet@1.9.3/dist/leaflet.js&quot;&gt;&lt;/script&gt;\n    &lt;script src=&quot;https://code.jquery.com/jquery-3.7.1.min.js&quot;&gt;&lt;/script&gt;\n    &lt;script src=&quot;https://cdn.jsdelivr.net/npm/bootstrap@5.2.2/dist/js/bootstrap.bundle.min.js&quot;&gt;&lt;/script&gt;\n    &lt;script src=&quot;https://cdnjs.cloudflare.com/ajax/libs/Leaflet.awesome-markers/2.0.2/leaflet.awesome-markers.js&quot;&gt;&lt;/script&gt;\n    &lt;link rel=&quot;stylesheet&quot; href=&quot;https://cdn.jsdelivr.net/npm/leaflet@1.9.3/dist/leaflet.css&quot;/&gt;\n    &lt;link rel=&quot;stylesheet&quot; href=&quot;https://cdn.jsdelivr.net/npm/bootstrap@5.2.2/dist/css/bootstrap.min.css&quot;/&gt;\n    &lt;link rel=&quot;stylesheet&quot; href=&quot;https://netdna.bootstrapcdn.com/bootstrap/3.0.0/css/bootstrap-glyphicons.css&quot;/&gt;\n    &lt;link rel=&quot;stylesheet&quot; href=&quot;https://cdn.jsdelivr.net/npm/@fortawesome/fontawesome-free@6.2.0/css/all.min.css&quot;/&gt;\n    &lt;link rel=&quot;stylesheet&quot; href=&quot;https://cdnjs.cloudflare.com/ajax/libs/Leaflet.awesome-markers/2.0.2/leaflet.awesome-markers.css&quot;/&gt;\n    &lt;link rel=&quot;stylesheet&quot; href=&quot;https://cdn.jsdelivr.net/gh/python-visualization/folium/folium/templates/leaflet.awesome.rotate.min.css&quot;/&gt;\n    \n            &lt;meta name=&quot;viewport&quot; content=&quot;width=device-width,\n                initial-scale=1.0, maximum-scale=1.0, user-scalable=no&quot; /&gt;\n            &lt;style&gt;\n                #map_899649d4a25212af1417d5f65aa93680 {\n                    position: relative;\n                    width: 100.0%;\n                    height: 100.0%;\n                    left: 0.0%;\n                    top: 0.0%;\n                }\n                .leaflet-container { font-size: 1rem; }\n            &lt;/style&gt;\n        \n    &lt;script src=&quot;https://cdn.jsdelivr.net/gh/ardhi/Leaflet.MousePosition/src/L.Control.MousePosition.min.js&quot;&gt;&lt;/script&gt;\n    &lt;link rel=&quot;stylesheet&quot; href=&quot;https://cdn.jsdelivr.net/gh/ardhi/Leaflet.MousePosition/src/L.Control.MousePosition.min.css&quot;/&gt;\n&lt;/head&gt;\n&lt;body&gt;\n    \n    \n            &lt;div class=&quot;folium-map&quot; id=&quot;map_899649d4a25212af1417d5f65aa93680&quot; &gt;&lt;/div&gt;\n        \n&lt;/body&gt;\n&lt;script&gt;\n    \n    \n            var map_899649d4a25212af1417d5f65aa93680 = L.map(\n                &quot;map_899649d4a25212af1417d5f65aa93680&quot;,\n                {\n                    center: [28.5721, -80.648],\n                    crs: L.CRS.EPSG3857,\n                    ...{\n  &quot;zoom&quot;: 12,\n  &quot;zoomControl&quot;: true,\n  &quot;preferCanvas&quot;: false,\n}\n\n                }\n            );\n\n            \n\n        \n    \n            var tile_layer_d8dae5c4db2f96dac9eec4df78236e1a = L.tileLayer(\n                &quot;https://tile.openstreetmap.org/{z}/{x}/{y}.png&quot;,\n                {\n  &quot;minZoom&quot;: 0,\n  &quot;maxZoom&quot;: 19,\n  &quot;maxNativeZoom&quot;: 19,\n  &quot;noWrap&quot;: false,\n  &quot;attribution&quot;: &quot;\\u0026copy; \\u003ca href=\\&quot;https://www.openstreetmap.org/copyright\\&quot;\\u003eOpenStreetMap\\u003c/a\\u003e contributors&quot;,\n  &quot;subdomains&quot;: &quot;abc&quot;,\n  &quot;detectRetina&quot;: false,\n  &quot;tms&quot;: false,\n  &quot;opacity&quot;: 1,\n}\n\n            );\n        \n    \n            tile_layer_d8dae5c4db2f96dac9eec4df78236e1a.addTo(map_899649d4a25212af1417d5f65aa93680);\n        \n    \n            var marker_abd8a6c07fab42f2d5fc2357fb98a036 = L.marker(\n                [28.5721, -80.648],\n                {\n}\n            ).addTo(map_899649d4a25212af1417d5f65aa93680);\n        \n    \n            var icon_128e28e7f3685b1503ac8e2a8dbbc001 = L.AwesomeMarkers.icon(\n                {\n  &quot;markerColor&quot;: &quot;blue&quot;,\n  &quot;iconColor&quot;: &quot;white&quot;,\n  &quot;icon&quot;: &quot;info-sign&quot;,\n  &quot;prefix&quot;: &quot;glyphicon&quot;,\n  &quot;extraClasses&quot;: &quot;fa-rotate-0&quot;,\n}\n            );\n            marker_abd8a6c07fab42f2d5fc2357fb98a036.setIcon(icon_128e28e7f3685b1503ac8e2a8dbbc001);\n        \n    \n        var popup_fe53a6b14a915a5ccbe14c0d5844e3bb = L.popup({\n  &quot;maxWidth&quot;: &quot;100%&quot;,\n});\n\n        \n            \n                var html_5d0d7c5b1350dcc751b16c9be7d99e86 = $(`&lt;div id=&quot;html_5d0d7c5b1350dcc751b16c9be7d99e86&quot; style=&quot;width: 100.0%; height: 100.0%;&quot;&gt;Launch Site: Cape Canaveral&lt;/div&gt;`)[0];\n                popup_fe53a6b14a915a5ccbe14c0d5844e3bb.setContent(html_5d0d7c5b1350dcc751b16c9be7d99e86);\n            \n        \n\n        marker_abd8a6c07fab42f2d5fc2357fb98a036.bindPopup(popup_fe53a6b14a915a5ccbe14c0d5844e3bb)\n        ;\n\n        \n    \n    \n            var marker_ad06a0afe45a72611ab32777ad00f284 = L.marker(\n                [28.56367, -80.57163],\n                {\n}\n            ).addTo(map_899649d4a25212af1417d5f65aa93680);\n        \n    \n            var icon_015c987e57f2829ce774aa76ab72e441 = L.AwesomeMarkers.icon(\n                {\n  &quot;markerColor&quot;: &quot;green&quot;,\n  &quot;iconColor&quot;: &quot;white&quot;,\n  &quot;icon&quot;: &quot;info-sign&quot;,\n  &quot;prefix&quot;: &quot;glyphicon&quot;,\n  &quot;extraClasses&quot;: &quot;fa-rotate-0&quot;,\n}\n            );\n            marker_ad06a0afe45a72611ab32777ad00f284.setIcon(icon_015c987e57f2829ce774aa76ab72e441);\n        \n    \n        var popup_6e9f181fc16a7e10b08988f8824f60bc = L.popup({\n  &quot;maxWidth&quot;: &quot;100%&quot;,\n});\n\n        \n            \n                var html_15131ad6867d256e636e94e8280a3302 = $(`&lt;div id=&quot;html_15131ad6867d256e636e94e8280a3302&quot; style=&quot;width: 100.0%; height: 100.0%;&quot;&gt;Closest Coastline&lt;/div&gt;`)[0];\n                popup_6e9f181fc16a7e10b08988f8824f60bc.setContent(html_15131ad6867d256e636e94e8280a3302);\n            \n        \n\n        marker_ad06a0afe45a72611ab32777ad00f284.bindPopup(popup_6e9f181fc16a7e10b08988f8824f60bc)\n        ;\n\n        \n    \n    \n            var mouse_position_02217f926f509265df888402953df196 = new L.Control.MousePosition(\n                {\n  &quot;position&quot;: &quot;bottomright&quot;,\n  &quot;separator&quot;: &quot; : &quot;,\n  &quot;emptyString&quot;: &quot;Unavailable&quot;,\n  &quot;lngFirst&quot;: false,\n  &quot;numDigits&quot;: 5,\n  &quot;prefix&quot;: &quot;&quot;,\n}\n            );\n            mouse_position_02217f926f509265df888402953df196.options[&quot;latFormatter&quot;] =\n                undefined;\n            mouse_position_02217f926f509265df888402953df196.options[&quot;lngFormatter&quot;] =\n                undefined;\n            map_899649d4a25212af1417d5f65aa93680.addControl(mouse_position_02217f926f509265df888402953df196);\n        \n&lt;/script&gt;\n&lt;/html&gt;\" style=\"position:absolute;width:100%;height:100%;left:0;top:0;border:none !important;\" allowfullscreen webkitallowfullscreen mozallowfullscreen></iframe></div></div>"
          },
          "metadata": {}
        }
      ],
      "execution_count": 17
    },
    {
      "cell_type": "code",
      "source": "# Create and add a folium.Marker on your selected closest coastline point on the map\n# Display the distance between coastline point and launch site using the icon property \n# for example\n# distance_marker = folium.Marker(\n#    coordinate,\n#    icon=DivIcon(\n#        icon_size=(20,20),\n#        icon_anchor=(0,0),\n#        html='<div style=\"font-size: 12; color:#d35400;\"><b>%s</b></div>' % \"{:10.2f} KM\".format(distance),\n#        )\n#    )\ndef calculate_distance(lat1, lon1, lat2, lon2):\n    # approximate radius of earth in km\n    R = 6373.0\n\n    lat1 = radians(lat1)\n    lon1 = radians(lon1)\n    lat2 = radians(lat2)\n    lon2 = radians(lon2)\n\n    dlon = lon2 - lon1\n    dlat = lat2 - lat1\n\n    a = sin(dlat / 2)**2 + cos(lat1) * cos(lat2) * sin(dlon / 2)**2\n    c = 2 * atan2(sqrt(a), sqrt(1 - a))\n\n    distance = R * c\n    return distance\n\n# Coordinates for the launch site (e.g., Cape Canaveral)\nlaunch_site_lat = 28.5721\nlaunch_site_lon = -80.6480\n\n# Coordinates for the closest coastline (example values)\ncoastline_lat = 28.56367\ncoastline_lon = -80.57163\n\n# Create a folium map centered around the launch site\nsite_map = folium.Map(location=[launch_site_lat, launch_site_lon], zoom_start=12)\n\n# Add a marker for the launch site\nfolium.Marker(\n    [launch_site_lat, launch_site_lon],\n    popup=\"Launch Site: Cape Canaveral\",\n    icon=folium.Icon(color='blue')\n).add_to(site_map)\n\n# Calculate the distance between the launch site and the coastline\ndistance_coastline = calculate_distance(launch_site_lat, launch_site_lon, coastline_lat, coastline_lon)\n\n# Create and add a folium marker for the coastline point\ndistance_marker = folium.Marker(\n    [coastline_lat, coastline_lon],\n    icon=DivIcon(\n        icon_size=(20, 20),\n        icon_anchor=(0, 0),\n        html='<div style=\"font-size: 12; color:#d35400;\"><b>{:10.2f} KM</b></div>'.format(distance_coastline)\n    )\n)\n\n# Add the coastline marker to the map\ndistance_marker.add_to(site_map)\n\n# Display the map\nsite_map",
      "metadata": {
        "trusted": true
      },
      "outputs": [
        {
          "execution_count": 19,
          "output_type": "execute_result",
          "data": {
            "text/plain": "<folium.folium.Map at 0x5b23b70>",
            "text/html": "<div style=\"width:100%;\"><div style=\"position:relative;width:100%;height:0;padding-bottom:60%;\"><span style=\"color:#565656\">Make this Notebook Trusted to load map: File -> Trust Notebook</span><iframe srcdoc=\"&lt;!DOCTYPE html&gt;\n&lt;html&gt;\n&lt;head&gt;\n    \n    &lt;meta http-equiv=&quot;content-type&quot; content=&quot;text/html; charset=UTF-8&quot; /&gt;\n    \n        &lt;script&gt;\n            L_NO_TOUCH = false;\n            L_DISABLE_3D = false;\n        &lt;/script&gt;\n    \n    &lt;style&gt;html, body {width: 100%;height: 100%;margin: 0;padding: 0;}&lt;/style&gt;\n    &lt;style&gt;#map {position:absolute;top:0;bottom:0;right:0;left:0;}&lt;/style&gt;\n    &lt;script src=&quot;https://cdn.jsdelivr.net/npm/leaflet@1.9.3/dist/leaflet.js&quot;&gt;&lt;/script&gt;\n    &lt;script src=&quot;https://code.jquery.com/jquery-3.7.1.min.js&quot;&gt;&lt;/script&gt;\n    &lt;script src=&quot;https://cdn.jsdelivr.net/npm/bootstrap@5.2.2/dist/js/bootstrap.bundle.min.js&quot;&gt;&lt;/script&gt;\n    &lt;script src=&quot;https://cdnjs.cloudflare.com/ajax/libs/Leaflet.awesome-markers/2.0.2/leaflet.awesome-markers.js&quot;&gt;&lt;/script&gt;\n    &lt;link rel=&quot;stylesheet&quot; href=&quot;https://cdn.jsdelivr.net/npm/leaflet@1.9.3/dist/leaflet.css&quot;/&gt;\n    &lt;link rel=&quot;stylesheet&quot; href=&quot;https://cdn.jsdelivr.net/npm/bootstrap@5.2.2/dist/css/bootstrap.min.css&quot;/&gt;\n    &lt;link rel=&quot;stylesheet&quot; href=&quot;https://netdna.bootstrapcdn.com/bootstrap/3.0.0/css/bootstrap-glyphicons.css&quot;/&gt;\n    &lt;link rel=&quot;stylesheet&quot; href=&quot;https://cdn.jsdelivr.net/npm/@fortawesome/fontawesome-free@6.2.0/css/all.min.css&quot;/&gt;\n    &lt;link rel=&quot;stylesheet&quot; href=&quot;https://cdnjs.cloudflare.com/ajax/libs/Leaflet.awesome-markers/2.0.2/leaflet.awesome-markers.css&quot;/&gt;\n    &lt;link rel=&quot;stylesheet&quot; href=&quot;https://cdn.jsdelivr.net/gh/python-visualization/folium/folium/templates/leaflet.awesome.rotate.min.css&quot;/&gt;\n    \n            &lt;meta name=&quot;viewport&quot; content=&quot;width=device-width,\n                initial-scale=1.0, maximum-scale=1.0, user-scalable=no&quot; /&gt;\n            &lt;style&gt;\n                #map_33c1dc979e2949b679d68414f52cf7bd {\n                    position: relative;\n                    width: 100.0%;\n                    height: 100.0%;\n                    left: 0.0%;\n                    top: 0.0%;\n                }\n                .leaflet-container { font-size: 1rem; }\n            &lt;/style&gt;\n        \n&lt;/head&gt;\n&lt;body&gt;\n    \n    \n            &lt;div class=&quot;folium-map&quot; id=&quot;map_33c1dc979e2949b679d68414f52cf7bd&quot; &gt;&lt;/div&gt;\n        \n&lt;/body&gt;\n&lt;script&gt;\n    \n    \n            var map_33c1dc979e2949b679d68414f52cf7bd = L.map(\n                &quot;map_33c1dc979e2949b679d68414f52cf7bd&quot;,\n                {\n                    center: [28.5721, -80.648],\n                    crs: L.CRS.EPSG3857,\n                    ...{\n  &quot;zoom&quot;: 12,\n  &quot;zoomControl&quot;: true,\n  &quot;preferCanvas&quot;: false,\n}\n\n                }\n            );\n\n            \n\n        \n    \n            var tile_layer_658477b2b907b9e2d1945418c163e546 = L.tileLayer(\n                &quot;https://tile.openstreetmap.org/{z}/{x}/{y}.png&quot;,\n                {\n  &quot;minZoom&quot;: 0,\n  &quot;maxZoom&quot;: 19,\n  &quot;maxNativeZoom&quot;: 19,\n  &quot;noWrap&quot;: false,\n  &quot;attribution&quot;: &quot;\\u0026copy; \\u003ca href=\\&quot;https://www.openstreetmap.org/copyright\\&quot;\\u003eOpenStreetMap\\u003c/a\\u003e contributors&quot;,\n  &quot;subdomains&quot;: &quot;abc&quot;,\n  &quot;detectRetina&quot;: false,\n  &quot;tms&quot;: false,\n  &quot;opacity&quot;: 1,\n}\n\n            );\n        \n    \n            tile_layer_658477b2b907b9e2d1945418c163e546.addTo(map_33c1dc979e2949b679d68414f52cf7bd);\n        \n    \n            var marker_a306beb624a0fe7ff975347170759771 = L.marker(\n                [28.5721, -80.648],\n                {\n}\n            ).addTo(map_33c1dc979e2949b679d68414f52cf7bd);\n        \n    \n            var icon_6b94f0f21e8c33fa8cf39b0cd3968d53 = L.AwesomeMarkers.icon(\n                {\n  &quot;markerColor&quot;: &quot;blue&quot;,\n  &quot;iconColor&quot;: &quot;white&quot;,\n  &quot;icon&quot;: &quot;info-sign&quot;,\n  &quot;prefix&quot;: &quot;glyphicon&quot;,\n  &quot;extraClasses&quot;: &quot;fa-rotate-0&quot;,\n}\n            );\n            marker_a306beb624a0fe7ff975347170759771.setIcon(icon_6b94f0f21e8c33fa8cf39b0cd3968d53);\n        \n    \n        var popup_48028febff203cffe36eaca642096c8f = L.popup({\n  &quot;maxWidth&quot;: &quot;100%&quot;,\n});\n\n        \n            \n                var html_5f351daad5f8f90bc1ef49ded594147c = $(`&lt;div id=&quot;html_5f351daad5f8f90bc1ef49ded594147c&quot; style=&quot;width: 100.0%; height: 100.0%;&quot;&gt;Launch Site: Cape Canaveral&lt;/div&gt;`)[0];\n                popup_48028febff203cffe36eaca642096c8f.setContent(html_5f351daad5f8f90bc1ef49ded594147c);\n            \n        \n\n        marker_a306beb624a0fe7ff975347170759771.bindPopup(popup_48028febff203cffe36eaca642096c8f)\n        ;\n\n        \n    \n    \n            var marker_636b2d1c2a81f3c1c5056b54ae035ea4 = L.marker(\n                [28.56367, -80.57163],\n                {\n}\n            ).addTo(map_33c1dc979e2949b679d68414f52cf7bd);\n        \n    \n            var div_icon_060054237d1b61c1e39528b2722866f2 = L.divIcon({\n  &quot;html&quot;: &quot;\\u003cdiv style=\\&quot;font-size: 12; color:#d35400;\\&quot;\\u003e\\u003cb\\u003e      7.52 KM\\u003c/b\\u003e\\u003c/div\\u003e&quot;,\n  &quot;iconSize&quot;: [20, 20],\n  &quot;iconAnchor&quot;: [0, 0],\n  &quot;className&quot;: &quot;empty&quot;,\n});\n            marker_636b2d1c2a81f3c1c5056b54ae035ea4.setIcon(div_icon_060054237d1b61c1e39528b2722866f2);\n        \n&lt;/script&gt;\n&lt;/html&gt;\" style=\"position:absolute;width:100%;height:100%;left:0;top:0;border:none !important;\" allowfullscreen webkitallowfullscreen mozallowfullscreen></iframe></div></div>"
          },
          "metadata": {}
        }
      ],
      "execution_count": 19
    },
    {
      "cell_type": "markdown",
      "source": "*TODO:* Draw a `PolyLine` between a launch site to the selected coastline point\n",
      "metadata": {}
    },
    {
      "cell_type": "code",
      "source": "def calculate_distance(lat1, lon1, lat2, lon2):\n    # approximate radius of earth in km\n    R = 6373.0\n\n    lat1 = radians(lat1)\n    lon1 = radians(lon1)\n    lat2 = radians(lat2)\n    lon2 = radians(lon2)\n\n    dlon = lon2 - lon1\n    dlat = lat2 - lat1\n\n    a = sin(dlat / 2)**2 + cos(lat1) * cos(lat2) * sin(dlon / 2)**2\n    c = 2 * atan2(sqrt(a), sqrt(1 - a))\n\n    distance = R * c\n    return distance\n\n# Coordinates for the launch site (e.g., Cape Canaveral)\nlaunch_site_lat = 28.5721\nlaunch_site_lon = -80.6480\n\n# Coordinates for the closest coastline (example values)\ncoastline_lat = 28.56367\ncoastline_lon = -80.57163\n\n# Create a folium map centered around the launch site\nsite_map = folium.Map(location=[launch_site_lat, launch_site_lon], zoom_start=12)\n\n# Add a marker for the launch site\nfolium.Marker(\n    [launch_site_lat, launch_site_lon],\n    popup=\"Launch Site: Cape Canaveral\",\n    icon=folium.Icon(color='blue')\n).add_to(site_map)\n\n# Calculate the distance between the launch site and the coastline\ndistance_coastline = calculate_distance(launch_site_lat, launch_site_lon, coastline_lat, coastline_lon)\n\n# Create and add a folium marker for the coastline point\ndistance_marker = folium.Marker(\n    [coastline_lat, coastline_lon],\n    icon=DivIcon(\n        icon_size=(20, 20),\n        icon_anchor=(0, 0),\n        html='<div style=\"font-size: 12; color:#d35400;\"><b>{:10.2f} KM</b></div>'.format(distance_coastline)\n    )\n)\n\n# Add the coastline marker to the map\ndistance_marker.add_to(site_map)\n\n# Create a PolyLine between the launch site and the coastline point\ncoordinates = [(launch_site_lat, launch_site_lon), (coastline_lat, coastline_lon)]\nlines = folium.PolyLine(locations=coordinates, weight=2, color='blue').add_to(site_map)\n\n# Display the map\nsite_map",
      "metadata": {
        "trusted": true
      },
      "outputs": [
        {
          "execution_count": 20,
          "output_type": "execute_result",
          "data": {
            "text/plain": "<folium.folium.Map at 0x5d83d78>",
            "text/html": "<div style=\"width:100%;\"><div style=\"position:relative;width:100%;height:0;padding-bottom:60%;\"><span style=\"color:#565656\">Make this Notebook Trusted to load map: File -> Trust Notebook</span><iframe srcdoc=\"&lt;!DOCTYPE html&gt;\n&lt;html&gt;\n&lt;head&gt;\n    \n    &lt;meta http-equiv=&quot;content-type&quot; content=&quot;text/html; charset=UTF-8&quot; /&gt;\n    \n        &lt;script&gt;\n            L_NO_TOUCH = false;\n            L_DISABLE_3D = false;\n        &lt;/script&gt;\n    \n    &lt;style&gt;html, body {width: 100%;height: 100%;margin: 0;padding: 0;}&lt;/style&gt;\n    &lt;style&gt;#map {position:absolute;top:0;bottom:0;right:0;left:0;}&lt;/style&gt;\n    &lt;script src=&quot;https://cdn.jsdelivr.net/npm/leaflet@1.9.3/dist/leaflet.js&quot;&gt;&lt;/script&gt;\n    &lt;script src=&quot;https://code.jquery.com/jquery-3.7.1.min.js&quot;&gt;&lt;/script&gt;\n    &lt;script src=&quot;https://cdn.jsdelivr.net/npm/bootstrap@5.2.2/dist/js/bootstrap.bundle.min.js&quot;&gt;&lt;/script&gt;\n    &lt;script src=&quot;https://cdnjs.cloudflare.com/ajax/libs/Leaflet.awesome-markers/2.0.2/leaflet.awesome-markers.js&quot;&gt;&lt;/script&gt;\n    &lt;link rel=&quot;stylesheet&quot; href=&quot;https://cdn.jsdelivr.net/npm/leaflet@1.9.3/dist/leaflet.css&quot;/&gt;\n    &lt;link rel=&quot;stylesheet&quot; href=&quot;https://cdn.jsdelivr.net/npm/bootstrap@5.2.2/dist/css/bootstrap.min.css&quot;/&gt;\n    &lt;link rel=&quot;stylesheet&quot; href=&quot;https://netdna.bootstrapcdn.com/bootstrap/3.0.0/css/bootstrap-glyphicons.css&quot;/&gt;\n    &lt;link rel=&quot;stylesheet&quot; href=&quot;https://cdn.jsdelivr.net/npm/@fortawesome/fontawesome-free@6.2.0/css/all.min.css&quot;/&gt;\n    &lt;link rel=&quot;stylesheet&quot; href=&quot;https://cdnjs.cloudflare.com/ajax/libs/Leaflet.awesome-markers/2.0.2/leaflet.awesome-markers.css&quot;/&gt;\n    &lt;link rel=&quot;stylesheet&quot; href=&quot;https://cdn.jsdelivr.net/gh/python-visualization/folium/folium/templates/leaflet.awesome.rotate.min.css&quot;/&gt;\n    \n            &lt;meta name=&quot;viewport&quot; content=&quot;width=device-width,\n                initial-scale=1.0, maximum-scale=1.0, user-scalable=no&quot; /&gt;\n            &lt;style&gt;\n                #map_6c3a34f282944215753299c56012ca33 {\n                    position: relative;\n                    width: 100.0%;\n                    height: 100.0%;\n                    left: 0.0%;\n                    top: 0.0%;\n                }\n                .leaflet-container { font-size: 1rem; }\n            &lt;/style&gt;\n        \n&lt;/head&gt;\n&lt;body&gt;\n    \n    \n            &lt;div class=&quot;folium-map&quot; id=&quot;map_6c3a34f282944215753299c56012ca33&quot; &gt;&lt;/div&gt;\n        \n&lt;/body&gt;\n&lt;script&gt;\n    \n    \n            var map_6c3a34f282944215753299c56012ca33 = L.map(\n                &quot;map_6c3a34f282944215753299c56012ca33&quot;,\n                {\n                    center: [28.5721, -80.648],\n                    crs: L.CRS.EPSG3857,\n                    ...{\n  &quot;zoom&quot;: 12,\n  &quot;zoomControl&quot;: true,\n  &quot;preferCanvas&quot;: false,\n}\n\n                }\n            );\n\n            \n\n        \n    \n            var tile_layer_21dcae5013a01879aacb5d58a2ce5473 = L.tileLayer(\n                &quot;https://tile.openstreetmap.org/{z}/{x}/{y}.png&quot;,\n                {\n  &quot;minZoom&quot;: 0,\n  &quot;maxZoom&quot;: 19,\n  &quot;maxNativeZoom&quot;: 19,\n  &quot;noWrap&quot;: false,\n  &quot;attribution&quot;: &quot;\\u0026copy; \\u003ca href=\\&quot;https://www.openstreetmap.org/copyright\\&quot;\\u003eOpenStreetMap\\u003c/a\\u003e contributors&quot;,\n  &quot;subdomains&quot;: &quot;abc&quot;,\n  &quot;detectRetina&quot;: false,\n  &quot;tms&quot;: false,\n  &quot;opacity&quot;: 1,\n}\n\n            );\n        \n    \n            tile_layer_21dcae5013a01879aacb5d58a2ce5473.addTo(map_6c3a34f282944215753299c56012ca33);\n        \n    \n            var marker_65eccb96d04f5fe514449f9f2ad53772 = L.marker(\n                [28.5721, -80.648],\n                {\n}\n            ).addTo(map_6c3a34f282944215753299c56012ca33);\n        \n    \n            var icon_0c36ed14e90a351be381c835cc9cc424 = L.AwesomeMarkers.icon(\n                {\n  &quot;markerColor&quot;: &quot;blue&quot;,\n  &quot;iconColor&quot;: &quot;white&quot;,\n  &quot;icon&quot;: &quot;info-sign&quot;,\n  &quot;prefix&quot;: &quot;glyphicon&quot;,\n  &quot;extraClasses&quot;: &quot;fa-rotate-0&quot;,\n}\n            );\n            marker_65eccb96d04f5fe514449f9f2ad53772.setIcon(icon_0c36ed14e90a351be381c835cc9cc424);\n        \n    \n        var popup_58bee4edae5189573ac17abb649e4ad5 = L.popup({\n  &quot;maxWidth&quot;: &quot;100%&quot;,\n});\n\n        \n            \n                var html_8f21c929ddc90644cd78ddf19029c341 = $(`&lt;div id=&quot;html_8f21c929ddc90644cd78ddf19029c341&quot; style=&quot;width: 100.0%; height: 100.0%;&quot;&gt;Launch Site: Cape Canaveral&lt;/div&gt;`)[0];\n                popup_58bee4edae5189573ac17abb649e4ad5.setContent(html_8f21c929ddc90644cd78ddf19029c341);\n            \n        \n\n        marker_65eccb96d04f5fe514449f9f2ad53772.bindPopup(popup_58bee4edae5189573ac17abb649e4ad5)\n        ;\n\n        \n    \n    \n            var marker_81a247445240285576f614af2c960768 = L.marker(\n                [28.56367, -80.57163],\n                {\n}\n            ).addTo(map_6c3a34f282944215753299c56012ca33);\n        \n    \n            var div_icon_b1f832e6fd2fa36985842b80f259b7cd = L.divIcon({\n  &quot;html&quot;: &quot;\\u003cdiv style=\\&quot;font-size: 12; color:#d35400;\\&quot;\\u003e\\u003cb\\u003e      7.52 KM\\u003c/b\\u003e\\u003c/div\\u003e&quot;,\n  &quot;iconSize&quot;: [20, 20],\n  &quot;iconAnchor&quot;: [0, 0],\n  &quot;className&quot;: &quot;empty&quot;,\n});\n            marker_81a247445240285576f614af2c960768.setIcon(div_icon_b1f832e6fd2fa36985842b80f259b7cd);\n        \n    \n            var poly_line_9232faffdddebf0807f0c3ef065e4d02 = L.polyline(\n                [[28.5721, -80.648], [28.56367, -80.57163]],\n                {&quot;bubblingMouseEvents&quot;: true, &quot;color&quot;: &quot;blue&quot;, &quot;dashArray&quot;: null, &quot;dashOffset&quot;: null, &quot;fill&quot;: false, &quot;fillColor&quot;: &quot;blue&quot;, &quot;fillOpacity&quot;: 0.2, &quot;fillRule&quot;: &quot;evenodd&quot;, &quot;lineCap&quot;: &quot;round&quot;, &quot;lineJoin&quot;: &quot;round&quot;, &quot;noClip&quot;: false, &quot;opacity&quot;: 1.0, &quot;smoothFactor&quot;: 1.0, &quot;stroke&quot;: true, &quot;weight&quot;: 2}\n            ).addTo(map_6c3a34f282944215753299c56012ca33);\n        \n&lt;/script&gt;\n&lt;/html&gt;\" style=\"position:absolute;width:100%;height:100%;left:0;top:0;border:none !important;\" allowfullscreen webkitallowfullscreen mozallowfullscreen></iframe></div></div>"
          },
          "metadata": {}
        }
      ],
      "execution_count": 20
    },
    {
      "cell_type": "markdown",
      "source": "Your updated map with distance line should look like the following screenshot:\n",
      "metadata": {}
    },
    {
      "cell_type": "markdown",
      "source": "<center>\n    <img src=\"https://cf-courses-data.s3.us.cloud-object-storage.appdomain.cloud/IBM-DS0321EN-SkillsNetwork/labs/module_3/images/launch_site_marker_distance.png\">\n</center>\n",
      "metadata": {}
    },
    {
      "cell_type": "markdown",
      "source": "*TODO:* Similarly, you can draw a line betwee a launch site to its closest city, railway, highway, etc. You need to use `MousePosition` to find the their coordinates on the map first\n",
      "metadata": {}
    },
    {
      "cell_type": "markdown",
      "source": "A railway map symbol may look like this:\n",
      "metadata": {}
    },
    {
      "cell_type": "markdown",
      "source": "<center>\n    <img src=\"https://cf-courses-data.s3.us.cloud-object-storage.appdomain.cloud/IBM-DS0321EN-SkillsNetwork/labs/module_3/images/railway.png\">\n</center>\n",
      "metadata": {}
    },
    {
      "cell_type": "markdown",
      "source": "A highway map symbol may look like this:\n",
      "metadata": {}
    },
    {
      "cell_type": "markdown",
      "source": "<center>\n    <img src=\"https://cf-courses-data.s3.us.cloud-object-storage.appdomain.cloud/IBM-DS0321EN-SkillsNetwork/labs/module_3/images/highway.png\">\n</center>\n",
      "metadata": {}
    },
    {
      "cell_type": "markdown",
      "source": "A city map symbol may look like this:\n",
      "metadata": {}
    },
    {
      "cell_type": "markdown",
      "source": "<center>\n    <img src=\"https://cf-courses-data.s3.us.cloud-object-storage.appdomain.cloud/IBM-DS0321EN-SkillsNetwork/labs/module_3/images/city.png\">\n</center>\n",
      "metadata": {}
    },
    {
      "cell_type": "code",
      "source": "# Create a marker with distance to a closest city, railway, highway, etc.\n# Draw a line between the marker to the launch site\n",
      "metadata": {},
      "outputs": [],
      "execution_count": null
    },
    {
      "cell_type": "code",
      "source": "",
      "metadata": {},
      "outputs": [],
      "execution_count": null
    },
    {
      "cell_type": "code",
      "source": "",
      "metadata": {},
      "outputs": [],
      "execution_count": null
    },
    {
      "cell_type": "markdown",
      "source": "After you plot distance lines to the proximities, you can answer the following questions easily:\n\n*   Are launch sites in close proximity to railways?\n*   Are launch sites in close proximity to highways?\n*   Are launch sites in close proximity to coastline?\n*   Do launch sites keep certain distance away from cities?\n\nAlso please try to explain your findings.\n",
      "metadata": {}
    },
    {
      "cell_type": "markdown",
      "source": "# Next Steps:\n\nNow you have discovered many interesting insights related to the launch sites' location using folium, in a very interactive way. Next, you will need to build a dashboard using Ploty Dash on detailed launch records.\n",
      "metadata": {}
    },
    {
      "cell_type": "markdown",
      "source": "## Authors\n",
      "metadata": {}
    },
    {
      "cell_type": "markdown",
      "source": "[Pratiksha Verma](https://www.linkedin.com/in/pratiksha-verma-6487561b1/)\n",
      "metadata": {}
    },
    {
      "cell_type": "markdown",
      "source": "<!--## Change Log--!>\n",
      "metadata": {}
    },
    {
      "cell_type": "markdown",
      "source": "<!--| Date (YYYY-MM-DD) | Version | Changed By      | Change Description      |\n| ----------------- | ------- | -------------   | ----------------------- |\n| 2022-11-09        | 1.0     | Pratiksha Verma | Converted initial version to Jupyterlite|--!>\n",
      "metadata": {}
    },
    {
      "cell_type": "markdown",
      "source": "### <h3 align=\"center\"> IBM Corporation 2022. All rights reserved. <h3/>\n",
      "metadata": {}
    }
  ]
}